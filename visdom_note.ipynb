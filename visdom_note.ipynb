{
 "cells": [
  {
   "cell_type": "markdown",
   "metadata": {},
   "source": [
    "安装visdom：\n",
    "pip install visdom\n",
    "\n",
    "启动服务器（可能在screen或者tmux中）：\n",
    "python -m visdom.server\n",
    "\n",
    "一旦启动服务器，您就可以通过在浏览器中输入 http://localhost:8097 访问Visdom，localhost可以换成您的托管地址。\n",
    "\n",
    "If the above does not work, try using an SSH tunnel to your server by 把底下这一行加到本地的 ~/.ssh/config 中: \n",
    "LocalForward 127.0.0.1:8097 127.0.0.1:8097.\n",
    "\n",
    "\n",
    "github：https://github.com/facebookresearch/visdom\n",
    "翻译版：http://blog.csdn.net/u012436149/article/details/69389610?utm_source=gold_browser_extension"
   ]
  },
  {
   "cell_type": "code",
   "execution_count": 3,
   "metadata": {
    "collapsed": true
   },
   "outputs": [],
   "source": [
    "#visdom 学习笔记\n",
    "import visdom\n",
    "import numpy as np\n",
    "viz = visdom.Visdom()\n",
    "#画一个文本框\n",
    "textwindow = viz.text('Hello, world!')"
   ]
  },
  {
   "cell_type": "code",
   "execution_count": 52,
   "metadata": {},
   "outputs": [
    {
     "name": "stdout",
     "output_type": "stream",
     "text": [
      "Exception in user code:\n",
      "------------------------------------------------------------\n",
      "Exception in user code:\n",
      "------------------------------------------------------------\n"
     ]
    },
    {
     "name": "stderr",
     "output_type": "stream",
     "text": [
      "Traceback (most recent call last):\n",
      "  File \"/home/wcd/app/anaconda3/lib/python3.6/site-packages/visdom/__init__.py\", line 240, in _send\n",
      "    data=json.dumps(msg),\n",
      "  File \"/home/wcd/app/anaconda3/lib/python3.6/site-packages/requests/api.py\", line 112, in post\n",
      "    return request('post', url, data=data, json=json, **kwargs)\n",
      "  File \"/home/wcd/app/anaconda3/lib/python3.6/site-packages/requests/api.py\", line 58, in request\n",
      "    return session.request(method=method, url=url, **kwargs)\n",
      "  File \"/home/wcd/app/anaconda3/lib/python3.6/site-packages/requests/sessions.py\", line 508, in request\n",
      "    resp = self.send(prep, **send_kwargs)\n",
      "  File \"/home/wcd/app/anaconda3/lib/python3.6/site-packages/requests/sessions.py\", line 612, in send\n",
      "    adapter = self.get_adapter(url=request.url)\n",
      "  File \"/home/wcd/app/anaconda3/lib/python3.6/site-packages/requests/sessions.py\", line 703, in get_adapter\n",
      "    raise InvalidSchema(\"No connection adapters were found for '%s'\" % url)\n",
      "requests.exceptions.InvalidSchema: No connection adapters were found for 'wcd:8097/events'\n",
      "Traceback (most recent call last):\n",
      "  File \"/home/wcd/app/anaconda3/lib/python3.6/site-packages/visdom/__init__.py\", line 240, in _send\n",
      "    data=json.dumps(msg),\n",
      "  File \"/home/wcd/app/anaconda3/lib/python3.6/site-packages/requests/api.py\", line 112, in post\n",
      "    return request('post', url, data=data, json=json, **kwargs)\n",
      "  File \"/home/wcd/app/anaconda3/lib/python3.6/site-packages/requests/api.py\", line 58, in request\n",
      "    return session.request(method=method, url=url, **kwargs)\n",
      "  File \"/home/wcd/app/anaconda3/lib/python3.6/site-packages/requests/sessions.py\", line 508, in request\n",
      "    resp = self.send(prep, **send_kwargs)\n",
      "  File \"/home/wcd/app/anaconda3/lib/python3.6/site-packages/requests/sessions.py\", line 612, in send\n",
      "    adapter = self.get_adapter(url=request.url)\n",
      "  File \"/home/wcd/app/anaconda3/lib/python3.6/site-packages/requests/sessions.py\", line 703, in get_adapter\n",
      "    raise InvalidSchema(\"No connection adapters were found for '%s'\" % url)\n",
      "requests.exceptions.InvalidSchema: No connection adapters were found for 'wcd:8097/events'\n"
     ]
    },
    {
     "data": {
      "text/plain": [
       "False"
      ]
     },
     "execution_count": 52,
     "metadata": {},
     "output_type": "execute_result"
    }
   ],
   "source": [
    "#画一张图 （CxHxW）\n",
    "viz.image(np.ones((3, 10, 10)))\n",
    "#画一张噪声图\n",
    "viz.image(\n",
    "    np.random.rand(3, 512, 256),\n",
    "    opts=dict(title='噪点', caption='好噪啊。'),\n",
    ")"
   ]
  },
  {
   "cell_type": "code",
   "execution_count": 51,
   "metadata": {
    "collapsed": true
   },
   "outputs": [],
   "source": [
    "viz=visdom.Visdom(\"wcd\")"
   ]
  },
  {
   "cell_type": "code",
   "execution_count": 6,
   "metadata": {},
   "outputs": [
    {
     "name": "stdout",
     "output_type": "stream",
     "text": [
      "0.284313680011\n",
      "[ 0.16825475  0.07546459  0.34128893  0.1026385   0.29419     0.20318261\n",
      "  0.18331875  0.40251968  0.60888282  0.46339618]\n",
      "[ 1.66825475  1.57546459  1.84128893  1.6026385   1.79419     1.70318261\n",
      "  1.68331875  1.90251968  2.10888282  1.96339618]\n",
      "[1 1 1 1 1 1 1 1 2 1]\n",
      "[0 0 0 0 0 0 0 0 1 0]\n",
      "[0 0 0 0 0 0 0 0 0 0]\n"
     ]
    }
   ],
   "source": [
    "y = np.random.rand(10)\n",
    "print(y.mean())\n",
    "print(y)\n",
    "print(y + 1.5)\n",
    "print((y+1.5).astype(int))\n",
    "print((y+0.5).astype(int))\n",
    "print(y.astype(int))"
   ]
  },
  {
   "cell_type": "code",
   "execution_count": 7,
   "metadata": {},
   "outputs": [
    {
     "name": "stdout",
     "output_type": "stream",
     "text": [
      "Exception in user code:\n",
      "------------------------------------------------------------\n"
     ]
    },
    {
     "name": "stderr",
     "output_type": "stream",
     "text": [
      "Traceback (most recent call last):\n",
      "  File \"/home/wcd/app/anaconda3/lib/python3.6/site-packages/visdom/__init__.py\", line 240, in _send\n",
      "    data=json.dumps(msg),\n",
      "  File \"/home/wcd/app/anaconda3/lib/python3.6/site-packages/requests/api.py\", line 112, in post\n",
      "    return request('post', url, data=data, json=json, **kwargs)\n",
      "  File \"/home/wcd/app/anaconda3/lib/python3.6/site-packages/requests/api.py\", line 58, in request\n",
      "    return session.request(method=method, url=url, **kwargs)\n",
      "  File \"/home/wcd/app/anaconda3/lib/python3.6/site-packages/requests/sessions.py\", line 508, in request\n",
      "    resp = self.send(prep, **send_kwargs)\n",
      "  File \"/home/wcd/app/anaconda3/lib/python3.6/site-packages/requests/sessions.py\", line 612, in send\n",
      "    adapter = self.get_adapter(url=request.url)\n",
      "  File \"/home/wcd/app/anaconda3/lib/python3.6/site-packages/requests/sessions.py\", line 703, in get_adapter\n",
      "    raise InvalidSchema(\"No connection adapters were found for '%s'\" % url)\n",
      "requests.exceptions.InvalidSchema: No connection adapters were found for 'wcd:8097/events'\n"
     ]
    },
    {
     "data": {
      "text/plain": [
       "False"
      ]
     },
     "execution_count": 7,
     "metadata": {},
     "output_type": "execute_result"
    }
   ],
   "source": [
    "Y = np.random.rand(100)\n",
    "#2d散点图\n",
    "viz.scatter(\n",
    "    #样本点有100个2维样本\n",
    "    X=np.random.rand(100, 2), \n",
    "    #100个样本的标签是Y（>1的整数）\n",
    "    Y=(Y[Y > 0] + 1.5).astype(int),\n",
    "    opts=dict(\n",
    "        legend=['Apples', 'Pears'],\n",
    "        xtickmin=-5,\n",
    "        xtickmax=5,\n",
    "        xtickstep=0.5,\n",
    "        #横坐标从-5~5，格子跨度0.5\n",
    "        ytickmin=-5,\n",
    "        ytickmax=5,\n",
    "        ytickstep=0.1,\n",
    "        #纵坐标从-5~5，格子跨度1\n",
    "        markersymbol='cross-thin-open',\n",
    "        title='2d散点图',\n",
    "    ),\n",
    ")"
   ]
  },
  {
   "cell_type": "code",
   "execution_count": 8,
   "metadata": {},
   "outputs": [
    {
     "name": "stdout",
     "output_type": "stream",
     "text": [
      "Exception in user code:\n",
      "------------------------------------------------------------\n"
     ]
    },
    {
     "name": "stderr",
     "output_type": "stream",
     "text": [
      "Traceback (most recent call last):\n",
      "  File \"/home/wcd/app/anaconda3/lib/python3.6/site-packages/visdom/__init__.py\", line 240, in _send\n",
      "    data=json.dumps(msg),\n",
      "  File \"/home/wcd/app/anaconda3/lib/python3.6/site-packages/requests/api.py\", line 112, in post\n",
      "    return request('post', url, data=data, json=json, **kwargs)\n",
      "  File \"/home/wcd/app/anaconda3/lib/python3.6/site-packages/requests/api.py\", line 58, in request\n",
      "    return session.request(method=method, url=url, **kwargs)\n",
      "  File \"/home/wcd/app/anaconda3/lib/python3.6/site-packages/requests/sessions.py\", line 508, in request\n",
      "    resp = self.send(prep, **send_kwargs)\n",
      "  File \"/home/wcd/app/anaconda3/lib/python3.6/site-packages/requests/sessions.py\", line 612, in send\n",
      "    adapter = self.get_adapter(url=request.url)\n",
      "  File \"/home/wcd/app/anaconda3/lib/python3.6/site-packages/requests/sessions.py\", line 703, in get_adapter\n",
      "    raise InvalidSchema(\"No connection adapters were found for '%s'\" % url)\n",
      "requests.exceptions.InvalidSchema: No connection adapters were found for 'wcd:8097/events'\n"
     ]
    },
    {
     "data": {
      "text/plain": [
       "False"
      ]
     },
     "execution_count": 8,
     "metadata": {},
     "output_type": "execute_result"
    }
   ],
   "source": [
    "#3d散点图\n",
    "viz.scatter(\n",
    "    X=np.random.rand(100, 3),\n",
    "    Y=(Y + 1.5).astype(int),\n",
    "    opts=dict(\n",
    "        legend=['Men', 'Women'],\n",
    "        markersize=5,\n",
    "        title='3d散点图',\n",
    "    )\n",
    ")"
   ]
  },
  {
   "cell_type": "code",
   "execution_count": 9,
   "metadata": {},
   "outputs": [
    {
     "name": "stdout",
     "output_type": "stream",
     "text": [
      "Exception in user code:\n",
      "------------------------------------------------------------\n",
      "[[189 126  16]\n",
      " [  0 108 125]]\n"
     ]
    },
    {
     "name": "stderr",
     "output_type": "stream",
     "text": [
      "Traceback (most recent call last):\n",
      "  File \"/home/wcd/app/anaconda3/lib/python3.6/site-packages/visdom/__init__.py\", line 240, in _send\n",
      "    data=json.dumps(msg),\n",
      "  File \"/home/wcd/app/anaconda3/lib/python3.6/json/__init__.py\", line 231, in dumps\n",
      "    return _default_encoder.encode(obj)\n",
      "  File \"/home/wcd/app/anaconda3/lib/python3.6/json/encoder.py\", line 199, in encode\n",
      "    chunks = self.iterencode(o, _one_shot=True)\n",
      "  File \"/home/wcd/app/anaconda3/lib/python3.6/json/encoder.py\", line 257, in iterencode\n",
      "    return _iterencode(o, 0)\n",
      "TypeError: keys must be a string\n"
     ]
    }
   ],
   "source": [
    "# 2D scatterplot with custom intensities (red channel)\n",
    "viz.scatter(\n",
    "    X=np.random.rand(255, 2),\n",
    "    Y=(np.random.rand(255) + 1.5).astype(int),\n",
    "    opts=dict(\n",
    "        markersize=10,\n",
    "        #marker的颜色随机（0~255的随机数 大小为2x3）\n",
    "        markercolor=np.random.randint(0, 255, (2, 3,)),\n",
    "    ),\n",
    ")\n",
    "print(np.random.randint(0, 255, (2, 3,)))"
   ]
  },
  {
   "cell_type": "code",
   "execution_count": 10,
   "metadata": {},
   "outputs": [
    {
     "name": "stdout",
     "output_type": "stream",
     "text": [
      "Exception in user code:\n",
      "------------------------------------------------------------\n",
      "[[  27.  214.   46.]\n",
      " [  20.  183.  134.]]\n"
     ]
    },
    {
     "name": "stderr",
     "output_type": "stream",
     "text": [
      "Traceback (most recent call last):\n",
      "  File \"/home/wcd/app/anaconda3/lib/python3.6/site-packages/visdom/__init__.py\", line 240, in _send\n",
      "    data=json.dumps(msg),\n",
      "  File \"/home/wcd/app/anaconda3/lib/python3.6/json/__init__.py\", line 231, in dumps\n",
      "    return _default_encoder.encode(obj)\n",
      "  File \"/home/wcd/app/anaconda3/lib/python3.6/json/encoder.py\", line 199, in encode\n",
      "    chunks = self.iterencode(o, _one_shot=True)\n",
      "  File \"/home/wcd/app/anaconda3/lib/python3.6/json/encoder.py\", line 257, in iterencode\n",
      "    return _iterencode(o, 0)\n",
      "TypeError: keys must be a string\n"
     ]
    }
   ],
   "source": [
    "# 2D scatter plot with custom colors per label:\n",
    "viz.scatter(\n",
    "    X=np.random.rand(255, 2),\n",
    "    Y=(np.random.randn(255) > 0) + 1,\n",
    "    opts=dict(\n",
    "        markersize=10,\n",
    "        markercolor=np.floor(np.random.random((2, 3)) * 255),\n",
    "    ),\n",
    ")\n",
    "print(np.floor(np.random.random((2, 3)) * 255))"
   ]
  },
  {
   "cell_type": "code",
   "execution_count": 11,
   "metadata": {},
   "outputs": [
    {
     "name": "stdout",
     "output_type": "stream",
     "text": [
      "Exception in user code:\n",
      "------------------------------------------------------------\n",
      "(255, 3)\n"
     ]
    },
    {
     "name": "stderr",
     "output_type": "stream",
     "text": [
      "Traceback (most recent call last):\n",
      "  File \"/home/wcd/app/anaconda3/lib/python3.6/site-packages/visdom/__init__.py\", line 240, in _send\n",
      "    data=json.dumps(msg),\n",
      "  File \"/home/wcd/app/anaconda3/lib/python3.6/site-packages/requests/api.py\", line 112, in post\n",
      "    return request('post', url, data=data, json=json, **kwargs)\n",
      "  File \"/home/wcd/app/anaconda3/lib/python3.6/site-packages/requests/api.py\", line 58, in request\n",
      "    return session.request(method=method, url=url, **kwargs)\n",
      "  File \"/home/wcd/app/anaconda3/lib/python3.6/site-packages/requests/sessions.py\", line 508, in request\n",
      "    resp = self.send(prep, **send_kwargs)\n",
      "  File \"/home/wcd/app/anaconda3/lib/python3.6/site-packages/requests/sessions.py\", line 612, in send\n",
      "    adapter = self.get_adapter(url=request.url)\n",
      "  File \"/home/wcd/app/anaconda3/lib/python3.6/site-packages/requests/sessions.py\", line 703, in get_adapter\n",
      "    raise InvalidSchema(\"No connection adapters were found for '%s'\" % url)\n",
      "requests.exceptions.InvalidSchema: No connection adapters were found for 'wcd:8097/events'\n"
     ]
    }
   ],
   "source": [
    "win = viz.scatter(\n",
    "    X=np.random.rand(255, 2),\n",
    "    opts=dict(\n",
    "        markersize=10,\n",
    "        markercolor=np.random.randint(0, 255, (255, 3,)),\n",
    "    ),\n",
    ")\n",
    "print(np.random.randint(0, 255, (255, 3,)).shape)"
   ]
  },
  {
   "cell_type": "code",
   "execution_count": 12,
   "metadata": {},
   "outputs": [
    {
     "name": "stdout",
     "output_type": "stream",
     "text": [
      "Exception in user code:\n",
      "------------------------------------------------------------\n"
     ]
    },
    {
     "name": "stderr",
     "output_type": "stream",
     "text": [
      "Traceback (most recent call last):\n",
      "  File \"/home/wcd/app/anaconda3/lib/python3.6/site-packages/visdom/__init__.py\", line 240, in _send\n",
      "    data=json.dumps(msg),\n",
      "  File \"/home/wcd/app/anaconda3/lib/python3.6/site-packages/requests/api.py\", line 112, in post\n",
      "    return request('post', url, data=data, json=json, **kwargs)\n",
      "  File \"/home/wcd/app/anaconda3/lib/python3.6/site-packages/requests/api.py\", line 58, in request\n",
      "    return session.request(method=method, url=url, **kwargs)\n",
      "  File \"/home/wcd/app/anaconda3/lib/python3.6/site-packages/requests/sessions.py\", line 508, in request\n",
      "    resp = self.send(prep, **send_kwargs)\n",
      "  File \"/home/wcd/app/anaconda3/lib/python3.6/site-packages/requests/sessions.py\", line 612, in send\n",
      "    adapter = self.get_adapter(url=request.url)\n",
      "  File \"/home/wcd/app/anaconda3/lib/python3.6/site-packages/requests/sessions.py\", line 703, in get_adapter\n",
      "    raise InvalidSchema(\"No connection adapters were found for '%s'\" % url)\n",
      "requests.exceptions.InvalidSchema: No connection adapters were found for 'wcd:8097/update'\n"
     ]
    },
    {
     "data": {
      "text/plain": [
       "False"
      ]
     },
     "execution_count": 12,
     "metadata": {},
     "output_type": "execute_result"
    }
   ],
   "source": [
    "# add new trace to scatter plot\n",
    "viz.updateTrace(\n",
    "    X=np.random.rand(1),\n",
    "    Y=np.random.rand(1),\n",
    "    win=win,\n",
    "    name='new_trace',\n",
    ")"
   ]
  },
  {
   "cell_type": "code",
   "execution_count": 13,
   "metadata": {},
   "outputs": [
    {
     "ename": "NameError",
     "evalue": "name 'Image' is not defined",
     "output_type": "error",
     "traceback": [
      "\u001b[0;31m---------------------------------------------------------------------------\u001b[0m",
      "\u001b[0;31mNameError\u001b[0m                                 Traceback (most recent call last)",
      "\u001b[0;32m<ipython-input-13-6685b5c2745c>\u001b[0m in \u001b[0;36m<module>\u001b[0;34m()\u001b[0m\n\u001b[0;32m----> 1\u001b[0;31m \u001b[0mimg\u001b[0m \u001b[0;34m=\u001b[0m \u001b[0mnp\u001b[0m\u001b[0;34m.\u001b[0m\u001b[0marray\u001b[0m\u001b[0;34m(\u001b[0m\u001b[0mImage\u001b[0m\u001b[0;34m.\u001b[0m\u001b[0mopen\u001b[0m\u001b[0;34m(\u001b[0m\u001b[0;34m'/home/wcd/Projects/Pytorch-examples/fast_neural_style/images/yang/t2.bmp'\u001b[0m\u001b[0;34m)\u001b[0m\u001b[0;34m.\u001b[0m\u001b[0mconvert\u001b[0m\u001b[0;34m(\u001b[0m\u001b[0;34m'YCbCr'\u001b[0m\u001b[0;34m)\u001b[0m\u001b[0;34m)\u001b[0m\u001b[0;34m\u001b[0m\u001b[0m\n\u001b[0m\u001b[1;32m      2\u001b[0m \u001b[0mprint\u001b[0m\u001b[0;34m(\u001b[0m\u001b[0mimg\u001b[0m\u001b[0;34m.\u001b[0m\u001b[0mshape\u001b[0m\u001b[0;34m)\u001b[0m\u001b[0;34m\u001b[0m\u001b[0m\n\u001b[1;32m      3\u001b[0m \u001b[0ma\u001b[0m \u001b[0;34m=\u001b[0m \u001b[0mImage\u001b[0m\u001b[0;34m.\u001b[0m\u001b[0mfromarray\u001b[0m\u001b[0;34m(\u001b[0m\u001b[0mimg\u001b[0m\u001b[0;34m[\u001b[0m\u001b[0;34m:\u001b[0m\u001b[0;34m,\u001b[0m\u001b[0;34m:\u001b[0m\u001b[0;34m,\u001b[0m\u001b[0;36m0\u001b[0m\u001b[0;34m]\u001b[0m\u001b[0;34m,\u001b[0m\u001b[0;34m'L'\u001b[0m\u001b[0;34m)\u001b[0m\u001b[0;34m\u001b[0m\u001b[0m\n\u001b[1;32m      4\u001b[0m \u001b[0mb\u001b[0m \u001b[0;34m=\u001b[0m \u001b[0mImage\u001b[0m\u001b[0;34m.\u001b[0m\u001b[0mfromarray\u001b[0m\u001b[0;34m(\u001b[0m\u001b[0mimg\u001b[0m\u001b[0;34m[\u001b[0m\u001b[0;34m:\u001b[0m\u001b[0;34m,\u001b[0m\u001b[0;34m:\u001b[0m\u001b[0;34m,\u001b[0m\u001b[0;36m1\u001b[0m\u001b[0;34m]\u001b[0m\u001b[0;34m,\u001b[0m\u001b[0;34m'L'\u001b[0m\u001b[0;34m)\u001b[0m\u001b[0;34m\u001b[0m\u001b[0m\n\u001b[1;32m      5\u001b[0m \u001b[0mc\u001b[0m \u001b[0;34m=\u001b[0m \u001b[0mImage\u001b[0m\u001b[0;34m.\u001b[0m\u001b[0mfromarray\u001b[0m\u001b[0;34m(\u001b[0m\u001b[0mimg\u001b[0m\u001b[0;34m[\u001b[0m\u001b[0;34m:\u001b[0m\u001b[0;34m,\u001b[0m\u001b[0;34m:\u001b[0m\u001b[0;34m,\u001b[0m\u001b[0;36m2\u001b[0m\u001b[0;34m]\u001b[0m\u001b[0;34m,\u001b[0m\u001b[0;34m'L'\u001b[0m\u001b[0;34m)\u001b[0m\u001b[0;34m\u001b[0m\u001b[0m\n",
      "\u001b[0;31mNameError\u001b[0m: name 'Image' is not defined"
     ]
    }
   ],
   "source": [
    "img = np.array(Image.open('/home/wcd/Projects/Pytorch-examples/fast_neural_style/images/yang/t2.bmp').convert('YCbCr'))\n",
    "print(img.shape)\n",
    "a = Image.fromarray(img[:,:,0],'L')\n",
    "b = Image.fromarray(img[:,:,1],'L')\n",
    "c = Image.fromarray(img[:,:,2],'L')\n",
    "Image.merge('YCbCr',[a,b,c]).convert('RGB')"
   ]
  },
  {
   "cell_type": "code",
   "execution_count": null,
   "metadata": {
    "collapsed": true
   },
   "outputs": [],
   "source": []
  },
  {
   "cell_type": "code",
   "execution_count": null,
   "metadata": {
    "collapsed": true
   },
   "outputs": [],
   "source": []
  },
  {
   "cell_type": "code",
   "execution_count": 14,
   "metadata": {},
   "outputs": [
    {
     "name": "stdout",
     "output_type": "stream",
     "text": [
      "Exception in user code:\n",
      "------------------------------------------------------------\n",
      "Exception in user code:\n",
      "------------------------------------------------------------\n"
     ]
    },
    {
     "name": "stderr",
     "output_type": "stream",
     "text": [
      "Traceback (most recent call last):\n",
      "  File \"/home/wcd/app/anaconda3/lib/python3.6/site-packages/visdom/__init__.py\", line 240, in _send\n",
      "    data=json.dumps(msg),\n",
      "  File \"/home/wcd/app/anaconda3/lib/python3.6/site-packages/requests/api.py\", line 112, in post\n",
      "    return request('post', url, data=data, json=json, **kwargs)\n",
      "  File \"/home/wcd/app/anaconda3/lib/python3.6/site-packages/requests/api.py\", line 58, in request\n",
      "    return session.request(method=method, url=url, **kwargs)\n",
      "  File \"/home/wcd/app/anaconda3/lib/python3.6/site-packages/requests/sessions.py\", line 508, in request\n",
      "    resp = self.send(prep, **send_kwargs)\n",
      "  File \"/home/wcd/app/anaconda3/lib/python3.6/site-packages/requests/sessions.py\", line 612, in send\n",
      "    adapter = self.get_adapter(url=request.url)\n",
      "  File \"/home/wcd/app/anaconda3/lib/python3.6/site-packages/requests/sessions.py\", line 703, in get_adapter\n",
      "    raise InvalidSchema(\"No connection adapters were found for '%s'\" % url)\n",
      "requests.exceptions.InvalidSchema: No connection adapters were found for 'wcd:8097/events'\n",
      "Traceback (most recent call last):\n",
      "  File \"/home/wcd/app/anaconda3/lib/python3.6/site-packages/visdom/__init__.py\", line 240, in _send\n",
      "    data=json.dumps(msg),\n",
      "  File \"/home/wcd/app/anaconda3/lib/python3.6/site-packages/requests/api.py\", line 112, in post\n",
      "    return request('post', url, data=data, json=json, **kwargs)\n",
      "  File \"/home/wcd/app/anaconda3/lib/python3.6/site-packages/requests/api.py\", line 58, in request\n",
      "    return session.request(method=method, url=url, **kwargs)\n",
      "  File \"/home/wcd/app/anaconda3/lib/python3.6/site-packages/requests/sessions.py\", line 508, in request\n",
      "    resp = self.send(prep, **send_kwargs)\n",
      "  File \"/home/wcd/app/anaconda3/lib/python3.6/site-packages/requests/sessions.py\", line 612, in send\n",
      "    adapter = self.get_adapter(url=request.url)\n",
      "  File \"/home/wcd/app/anaconda3/lib/python3.6/site-packages/requests/sessions.py\", line 703, in get_adapter\n",
      "    raise InvalidSchema(\"No connection adapters were found for '%s'\" % url)\n",
      "requests.exceptions.InvalidSchema: No connection adapters were found for 'wcd:8097/events'\n"
     ]
    },
    {
     "data": {
      "text/plain": [
       "False"
      ]
     },
     "execution_count": 14,
     "metadata": {},
     "output_type": "execute_result"
    }
   ],
   "source": [
    "# line plots\n",
    "#一条随机取值线\n",
    "viz.line(Y=np.random.rand(10))\n",
    "#一条函数线\n",
    "Y = np.linspace(-5, 5, 100)\n",
    "viz.line(\n",
    "    Y=np.column_stack((Y * Y, np.sqrt(Y + 5))),\n",
    "    X=np.column_stack((Y, Y)),\n",
    "    opts=dict(markers=False),\n",
    ")"
   ]
  },
  {
   "cell_type": "code",
   "execution_count": 15,
   "metadata": {},
   "outputs": [
    {
     "name": "stdout",
     "output_type": "stream",
     "text": [
      "Exception in user code:\n",
      "------------------------------------------------------------\n"
     ]
    },
    {
     "name": "stderr",
     "output_type": "stream",
     "text": [
      "Traceback (most recent call last):\n",
      "  File \"/home/wcd/app/anaconda3/lib/python3.6/site-packages/visdom/__init__.py\", line 240, in _send\n",
      "    data=json.dumps(msg),\n",
      "  File \"/home/wcd/app/anaconda3/lib/python3.6/site-packages/requests/api.py\", line 112, in post\n",
      "    return request('post', url, data=data, json=json, **kwargs)\n",
      "  File \"/home/wcd/app/anaconda3/lib/python3.6/site-packages/requests/api.py\", line 58, in request\n",
      "    return session.request(method=method, url=url, **kwargs)\n",
      "  File \"/home/wcd/app/anaconda3/lib/python3.6/site-packages/requests/sessions.py\", line 508, in request\n",
      "    resp = self.send(prep, **send_kwargs)\n",
      "  File \"/home/wcd/app/anaconda3/lib/python3.6/site-packages/requests/sessions.py\", line 612, in send\n",
      "    adapter = self.get_adapter(url=request.url)\n",
      "  File \"/home/wcd/app/anaconda3/lib/python3.6/site-packages/requests/sessions.py\", line 703, in get_adapter\n",
      "    raise InvalidSchema(\"No connection adapters were found for '%s'\" % url)\n",
      "requests.exceptions.InvalidSchema: No connection adapters were found for 'wcd:8097/events'\n"
     ]
    }
   ],
   "source": [
    "# line updates\n",
    "win = viz.line(\n",
    "    #一个column一条线\n",
    "    #X：坐标轴 Y：取值\n",
    "    #X=np.column_stack((np.arange(0, 10), np.arange(0, 10))),\n",
    "    Y=np.column_stack((np.linspace(5, 10, 10), np.linspace(5, 10, 10) + 5)),\n",
    "    opts=dict(title='线图'),\n",
    ")"
   ]
  },
  {
   "cell_type": "code",
   "execution_count": 16,
   "metadata": {},
   "outputs": [
    {
     "name": "stdout",
     "output_type": "stream",
     "text": [
      "Exception in user code:\n",
      "------------------------------------------------------------\n"
     ]
    },
    {
     "name": "stderr",
     "output_type": "stream",
     "text": [
      "Traceback (most recent call last):\n",
      "  File \"/home/wcd/app/anaconda3/lib/python3.6/site-packages/visdom/__init__.py\", line 240, in _send\n",
      "    data=json.dumps(msg),\n",
      "  File \"/home/wcd/app/anaconda3/lib/python3.6/site-packages/requests/api.py\", line 112, in post\n",
      "    return request('post', url, data=data, json=json, **kwargs)\n",
      "  File \"/home/wcd/app/anaconda3/lib/python3.6/site-packages/requests/api.py\", line 58, in request\n",
      "    return session.request(method=method, url=url, **kwargs)\n",
      "  File \"/home/wcd/app/anaconda3/lib/python3.6/site-packages/requests/sessions.py\", line 508, in request\n",
      "    resp = self.send(prep, **send_kwargs)\n",
      "  File \"/home/wcd/app/anaconda3/lib/python3.6/site-packages/requests/sessions.py\", line 612, in send\n",
      "    adapter = self.get_adapter(url=request.url)\n",
      "  File \"/home/wcd/app/anaconda3/lib/python3.6/site-packages/requests/sessions.py\", line 703, in get_adapter\n",
      "    raise InvalidSchema(\"No connection adapters were found for '%s'\" % url)\n",
      "requests.exceptions.InvalidSchema: No connection adapters were found for 'wcd:8097/update'\n"
     ]
    },
    {
     "data": {
      "text/plain": [
       "False"
      ]
     },
     "execution_count": 16,
     "metadata": {},
     "output_type": "execute_result"
    }
   ],
   "source": [
    "#第一种update方式：在原win窗口直接加点，然后连线，如果X比上一次的坐标要小，则出现一条右往左线段\n",
    "viz.line(\n",
    "    #must specify x-values for line update\n",
    "    X=np.column_stack((np.arange(12, 22), np.arange(11, 21))),\n",
    "    Y=np.column_stack((np.linspace(5, 10, 10), np.linspace(5, 10, 10) + 5)),\n",
    "    #制定了update源是win这个pane\n",
    "    win=win,\n",
    "    update='append',\n",
    ")"
   ]
  },
  {
   "cell_type": "code",
   "execution_count": 17,
   "metadata": {},
   "outputs": [
    {
     "data": {
      "text/plain": [
       "(10, 2)"
      ]
     },
     "execution_count": 17,
     "metadata": {},
     "output_type": "execute_result"
    }
   ],
   "source": [
    "np.column_stack((np.arange(12, 22), np.arange(11, 21))).shape"
   ]
  },
  {
   "cell_type": "code",
   "execution_count": 18,
   "metadata": {},
   "outputs": [
    {
     "name": "stdout",
     "output_type": "stream",
     "text": [
      "Exception in user code:\n",
      "------------------------------------------------------------\n",
      "Exception in user code:\n",
      "------------------------------------------------------------\n"
     ]
    },
    {
     "name": "stderr",
     "output_type": "stream",
     "text": [
      "Traceback (most recent call last):\n",
      "  File \"/home/wcd/app/anaconda3/lib/python3.6/site-packages/visdom/__init__.py\", line 240, in _send\n",
      "    data=json.dumps(msg),\n",
      "  File \"/home/wcd/app/anaconda3/lib/python3.6/site-packages/requests/api.py\", line 112, in post\n",
      "    return request('post', url, data=data, json=json, **kwargs)\n",
      "  File \"/home/wcd/app/anaconda3/lib/python3.6/site-packages/requests/api.py\", line 58, in request\n",
      "    return session.request(method=method, url=url, **kwargs)\n",
      "  File \"/home/wcd/app/anaconda3/lib/python3.6/site-packages/requests/sessions.py\", line 508, in request\n",
      "    resp = self.send(prep, **send_kwargs)\n",
      "  File \"/home/wcd/app/anaconda3/lib/python3.6/site-packages/requests/sessions.py\", line 612, in send\n",
      "    adapter = self.get_adapter(url=request.url)\n",
      "  File \"/home/wcd/app/anaconda3/lib/python3.6/site-packages/requests/sessions.py\", line 703, in get_adapter\n",
      "    raise InvalidSchema(\"No connection adapters were found for '%s'\" % url)\n",
      "requests.exceptions.InvalidSchema: No connection adapters were found for 'wcd:8097/update'\n",
      "Traceback (most recent call last):\n",
      "  File \"/home/wcd/app/anaconda3/lib/python3.6/site-packages/visdom/__init__.py\", line 240, in _send\n",
      "    data=json.dumps(msg),\n",
      "  File \"/home/wcd/app/anaconda3/lib/python3.6/site-packages/requests/api.py\", line 112, in post\n",
      "    return request('post', url, data=data, json=json, **kwargs)\n",
      "  File \"/home/wcd/app/anaconda3/lib/python3.6/site-packages/requests/api.py\", line 58, in request\n",
      "    return session.request(method=method, url=url, **kwargs)\n",
      "  File \"/home/wcd/app/anaconda3/lib/python3.6/site-packages/requests/sessions.py\", line 508, in request\n",
      "    resp = self.send(prep, **send_kwargs)\n",
      "  File \"/home/wcd/app/anaconda3/lib/python3.6/site-packages/requests/sessions.py\", line 612, in send\n",
      "    adapter = self.get_adapter(url=request.url)\n",
      "  File \"/home/wcd/app/anaconda3/lib/python3.6/site-packages/requests/sessions.py\", line 703, in get_adapter\n",
      "    raise InvalidSchema(\"No connection adapters were found for '%s'\" % url)\n",
      "requests.exceptions.InvalidSchema: No connection adapters were found for 'wcd:8097/update'\n"
     ]
    },
    {
     "data": {
      "text/plain": [
       "False"
      ]
     },
     "execution_count": 18,
     "metadata": {},
     "output_type": "execute_result"
    }
   ],
   "source": [
    "#第二种update方式：在x位置加上y值，连成线 最好一次一条线\n",
    "viz.updateTrace(\n",
    "    X=np.arange(21, 30),\n",
    "    Y=np.arange(1, 10),\n",
    "    win=win,\n",
    "    name='2'\n",
    ")\n",
    "viz.updateTrace(\n",
    "    X=np.arange(1, 10),\n",
    "    Y=np.arange(11, 20),\n",
    "    win=win,\n",
    "    name='4'\n",
    ")"
   ]
  },
  {
   "cell_type": "code",
   "execution_count": 19,
   "metadata": {},
   "outputs": [
    {
     "name": "stdout",
     "output_type": "stream",
     "text": [
      "Exception in user code:\n",
      "------------------------------------------------------------\n"
     ]
    },
    {
     "name": "stderr",
     "output_type": "stream",
     "text": [
      "Traceback (most recent call last):\n",
      "  File \"/home/wcd/app/anaconda3/lib/python3.6/site-packages/visdom/__init__.py\", line 240, in _send\n",
      "    data=json.dumps(msg),\n",
      "  File \"/home/wcd/app/anaconda3/lib/python3.6/site-packages/requests/api.py\", line 112, in post\n",
      "    return request('post', url, data=data, json=json, **kwargs)\n",
      "  File \"/home/wcd/app/anaconda3/lib/python3.6/site-packages/requests/api.py\", line 58, in request\n",
      "    return session.request(method=method, url=url, **kwargs)\n",
      "  File \"/home/wcd/app/anaconda3/lib/python3.6/site-packages/requests/sessions.py\", line 508, in request\n",
      "    resp = self.send(prep, **send_kwargs)\n",
      "  File \"/home/wcd/app/anaconda3/lib/python3.6/site-packages/requests/sessions.py\", line 612, in send\n",
      "    adapter = self.get_adapter(url=request.url)\n",
      "  File \"/home/wcd/app/anaconda3/lib/python3.6/site-packages/requests/sessions.py\", line 703, in get_adapter\n",
      "    raise InvalidSchema(\"No connection adapters were found for '%s'\" % url)\n",
      "requests.exceptions.InvalidSchema: No connection adapters were found for 'wcd:8097/update'\n"
     ]
    },
    {
     "data": {
      "text/plain": [
       "False"
      ]
     },
     "execution_count": 19,
     "metadata": {},
     "output_type": "execute_result"
    }
   ],
   "source": [
    "viz.updateTrace(\n",
    "    X=np.arange(1, 10),\n",
    "    Y=np.arange(11, 20),\n",
    "    win=win,\n",
    "    name='4'\n",
    ")"
   ]
  },
  {
   "cell_type": "code",
   "execution_count": 20,
   "metadata": {},
   "outputs": [
    {
     "name": "stdout",
     "output_type": "stream",
     "text": [
      "Exception in user code:\n",
      "------------------------------------------------------------\n"
     ]
    },
    {
     "name": "stderr",
     "output_type": "stream",
     "text": [
      "Traceback (most recent call last):\n",
      "  File \"/home/wcd/app/anaconda3/lib/python3.6/site-packages/visdom/__init__.py\", line 240, in _send\n",
      "    data=json.dumps(msg),\n",
      "  File \"/home/wcd/app/anaconda3/lib/python3.6/site-packages/requests/api.py\", line 112, in post\n",
      "    return request('post', url, data=data, json=json, **kwargs)\n",
      "  File \"/home/wcd/app/anaconda3/lib/python3.6/site-packages/requests/api.py\", line 58, in request\n",
      "    return session.request(method=method, url=url, **kwargs)\n",
      "  File \"/home/wcd/app/anaconda3/lib/python3.6/site-packages/requests/sessions.py\", line 508, in request\n",
      "    resp = self.send(prep, **send_kwargs)\n",
      "  File \"/home/wcd/app/anaconda3/lib/python3.6/site-packages/requests/sessions.py\", line 612, in send\n",
      "    adapter = self.get_adapter(url=request.url)\n",
      "  File \"/home/wcd/app/anaconda3/lib/python3.6/site-packages/requests/sessions.py\", line 703, in get_adapter\n",
      "    raise InvalidSchema(\"No connection adapters were found for '%s'\" % url)\n",
      "requests.exceptions.InvalidSchema: No connection adapters were found for 'wcd:8097/events'\n"
     ]
    }
   ],
   "source": [
    "Y = np.linspace(0, 4, 200)\n",
    "win = viz.line(\n",
    "    Y=np.column_stack((np.sqrt(Y), np.sqrt(Y) + 2)),\n",
    "    X=np.column_stack((Y, Y)),\n",
    "    opts=dict(\n",
    "        fillarea=True,\n",
    "        legend=False,\n",
    "        width=400,\n",
    "        height=400,\n",
    "        xlabel='Time',\n",
    "        ylabel='Volume',\n",
    "        ytype='log',\n",
    "        title='Stacked area plot',\n",
    "        marginleft=30,\n",
    "        marginright=30,\n",
    "        marginbottom=80,\n",
    "        margintop=30,\n",
    "    ),\n",
    ")"
   ]
  },
  {
   "cell_type": "code",
   "execution_count": 21,
   "metadata": {},
   "outputs": [
    {
     "name": "stdout",
     "output_type": "stream",
     "text": [
      "Exception in user code:\n",
      "------------------------------------------------------------\n",
      "Exception in user code:\n",
      "------------------------------------------------------------\n",
      "Exception in user code:\n",
      "------------------------------------------------------------\n"
     ]
    },
    {
     "name": "stderr",
     "output_type": "stream",
     "text": [
      "Traceback (most recent call last):\n",
      "  File \"/home/wcd/app/anaconda3/lib/python3.6/site-packages/visdom/__init__.py\", line 240, in _send\n",
      "    data=json.dumps(msg),\n",
      "  File \"/home/wcd/app/anaconda3/lib/python3.6/site-packages/requests/api.py\", line 112, in post\n",
      "    return request('post', url, data=data, json=json, **kwargs)\n",
      "  File \"/home/wcd/app/anaconda3/lib/python3.6/site-packages/requests/api.py\", line 58, in request\n",
      "    return session.request(method=method, url=url, **kwargs)\n",
      "  File \"/home/wcd/app/anaconda3/lib/python3.6/site-packages/requests/sessions.py\", line 508, in request\n",
      "    resp = self.send(prep, **send_kwargs)\n",
      "  File \"/home/wcd/app/anaconda3/lib/python3.6/site-packages/requests/sessions.py\", line 612, in send\n",
      "    adapter = self.get_adapter(url=request.url)\n",
      "  File \"/home/wcd/app/anaconda3/lib/python3.6/site-packages/requests/sessions.py\", line 703, in get_adapter\n",
      "    raise InvalidSchema(\"No connection adapters were found for '%s'\" % url)\n",
      "requests.exceptions.InvalidSchema: No connection adapters were found for 'wcd:8097/events'\n",
      "Traceback (most recent call last):\n",
      "  File \"/home/wcd/app/anaconda3/lib/python3.6/site-packages/visdom/__init__.py\", line 240, in _send\n",
      "    data=json.dumps(msg),\n",
      "  File \"/home/wcd/app/anaconda3/lib/python3.6/site-packages/requests/api.py\", line 112, in post\n",
      "    return request('post', url, data=data, json=json, **kwargs)\n",
      "  File \"/home/wcd/app/anaconda3/lib/python3.6/site-packages/requests/api.py\", line 58, in request\n",
      "    return session.request(method=method, url=url, **kwargs)\n",
      "  File \"/home/wcd/app/anaconda3/lib/python3.6/site-packages/requests/sessions.py\", line 508, in request\n",
      "    resp = self.send(prep, **send_kwargs)\n",
      "  File \"/home/wcd/app/anaconda3/lib/python3.6/site-packages/requests/sessions.py\", line 612, in send\n",
      "    adapter = self.get_adapter(url=request.url)\n",
      "  File \"/home/wcd/app/anaconda3/lib/python3.6/site-packages/requests/sessions.py\", line 703, in get_adapter\n",
      "    raise InvalidSchema(\"No connection adapters were found for '%s'\" % url)\n",
      "requests.exceptions.InvalidSchema: No connection adapters were found for 'wcd:8097/events'\n",
      "Traceback (most recent call last):\n",
      "  File \"/home/wcd/app/anaconda3/lib/python3.6/site-packages/visdom/__init__.py\", line 240, in _send\n",
      "    data=json.dumps(msg),\n",
      "  File \"/home/wcd/app/anaconda3/lib/python3.6/site-packages/requests/api.py\", line 112, in post\n",
      "    return request('post', url, data=data, json=json, **kwargs)\n",
      "  File \"/home/wcd/app/anaconda3/lib/python3.6/site-packages/requests/api.py\", line 58, in request\n",
      "    return session.request(method=method, url=url, **kwargs)\n",
      "  File \"/home/wcd/app/anaconda3/lib/python3.6/site-packages/requests/sessions.py\", line 508, in request\n",
      "    resp = self.send(prep, **send_kwargs)\n",
      "  File \"/home/wcd/app/anaconda3/lib/python3.6/site-packages/requests/sessions.py\", line 612, in send\n",
      "    adapter = self.get_adapter(url=request.url)\n",
      "  File \"/home/wcd/app/anaconda3/lib/python3.6/site-packages/requests/sessions.py\", line 703, in get_adapter\n",
      "    raise InvalidSchema(\"No connection adapters were found for '%s'\" % url)\n",
      "requests.exceptions.InvalidSchema: No connection adapters were found for 'wcd:8097/events'\n"
     ]
    },
    {
     "data": {
      "text/plain": [
       "False"
      ]
     },
     "execution_count": 21,
     "metadata": {},
     "output_type": "execute_result"
    }
   ],
   "source": [
    "# bar plots\n",
    "#普通条形图：像直方图\n",
    "viz.bar(X=np.random.rand(20))\n",
    "#叠起来的条形图\n",
    "viz.bar(\n",
    "    X=np.abs(np.random.rand(5, 3)),\n",
    "    opts=dict(\n",
    "        stacked=True,\n",
    "        legend=['Facebook', 'Google', 'Twitter'],\n",
    "        rownames=['2012', '2013', '2014', '2015', '2016']\n",
    "    )\n",
    ")\n",
    "#分组的条形图\n",
    "viz.bar(\n",
    "    X=np.random.rand(20, 3),\n",
    "    opts=dict(\n",
    "        stacked=False,\n",
    "        legend=['The Netherlands', 'France', 'United States']\n",
    "    )\n",
    ")"
   ]
  },
  {
   "cell_type": "code",
   "execution_count": 22,
   "metadata": {},
   "outputs": [
    {
     "name": "stdout",
     "output_type": "stream",
     "text": [
      "Exception in user code:\n",
      "------------------------------------------------------------\n",
      "Exception in user code:\n",
      "------------------------------------------------------------\n"
     ]
    },
    {
     "name": "stderr",
     "output_type": "stream",
     "text": [
      "Traceback (most recent call last):\n",
      "  File \"/home/wcd/app/anaconda3/lib/python3.6/site-packages/visdom/__init__.py\", line 240, in _send\n",
      "    data=json.dumps(msg),\n",
      "  File \"/home/wcd/app/anaconda3/lib/python3.6/site-packages/requests/api.py\", line 112, in post\n",
      "    return request('post', url, data=data, json=json, **kwargs)\n",
      "  File \"/home/wcd/app/anaconda3/lib/python3.6/site-packages/requests/api.py\", line 58, in request\n",
      "    return session.request(method=method, url=url, **kwargs)\n",
      "  File \"/home/wcd/app/anaconda3/lib/python3.6/site-packages/requests/sessions.py\", line 508, in request\n",
      "    resp = self.send(prep, **send_kwargs)\n",
      "  File \"/home/wcd/app/anaconda3/lib/python3.6/site-packages/requests/sessions.py\", line 612, in send\n",
      "    adapter = self.get_adapter(url=request.url)\n",
      "  File \"/home/wcd/app/anaconda3/lib/python3.6/site-packages/requests/sessions.py\", line 703, in get_adapter\n",
      "    raise InvalidSchema(\"No connection adapters were found for '%s'\" % url)\n",
      "requests.exceptions.InvalidSchema: No connection adapters were found for 'wcd:8097/events'\n",
      "Traceback (most recent call last):\n",
      "  File \"/home/wcd/app/anaconda3/lib/python3.6/site-packages/visdom/__init__.py\", line 240, in _send\n",
      "    data=json.dumps(msg),\n",
      "  File \"/home/wcd/app/anaconda3/lib/python3.6/site-packages/requests/api.py\", line 112, in post\n",
      "    return request('post', url, data=data, json=json, **kwargs)\n",
      "  File \"/home/wcd/app/anaconda3/lib/python3.6/site-packages/requests/api.py\", line 58, in request\n",
      "    return session.request(method=method, url=url, **kwargs)\n",
      "  File \"/home/wcd/app/anaconda3/lib/python3.6/site-packages/requests/sessions.py\", line 508, in request\n",
      "    resp = self.send(prep, **send_kwargs)\n",
      "  File \"/home/wcd/app/anaconda3/lib/python3.6/site-packages/requests/sessions.py\", line 612, in send\n",
      "    adapter = self.get_adapter(url=request.url)\n",
      "  File \"/home/wcd/app/anaconda3/lib/python3.6/site-packages/requests/sessions.py\", line 703, in get_adapter\n",
      "    raise InvalidSchema(\"No connection adapters were found for '%s'\" % url)\n",
      "requests.exceptions.InvalidSchema: No connection adapters were found for 'wcd:8097/events'\n"
     ]
    },
    {
     "data": {
      "text/plain": [
       "False"
      ]
     },
     "execution_count": 22,
     "metadata": {},
     "output_type": "execute_result"
    }
   ],
   "source": [
    "# histogram\n",
    "viz.histogram(X=np.random.rand(10000), opts=dict(numbins=20))\n",
    "\n",
    "# heatmap\n",
    "viz.heatmap(\n",
    "    X=np.outer(np.arange(1, 6), np.arange(1, 11)),\n",
    "    opts=dict(\n",
    "        columnnames=['a', 'b', 'c', 'd', 'e', 'f', 'g', 'h', 'i', 'j'],\n",
    "        rownames=['y1', 'y2', 'y3', 'y4', 'y5'],\n",
    "        colormap='Electric',\n",
    "    )\n",
    ")"
   ]
  },
  {
   "cell_type": "code",
   "execution_count": 23,
   "metadata": {},
   "outputs": [
    {
     "name": "stdout",
     "output_type": "stream",
     "text": [
      "Exception in user code:\n",
      "------------------------------------------------------------\n"
     ]
    },
    {
     "name": "stderr",
     "output_type": "stream",
     "text": [
      "Traceback (most recent call last):\n",
      "  File \"/home/wcd/app/anaconda3/lib/python3.6/site-packages/visdom/__init__.py\", line 240, in _send\n",
      "    data=json.dumps(msg),\n",
      "  File \"/home/wcd/app/anaconda3/lib/python3.6/site-packages/requests/api.py\", line 112, in post\n",
      "    return request('post', url, data=data, json=json, **kwargs)\n",
      "  File \"/home/wcd/app/anaconda3/lib/python3.6/site-packages/requests/api.py\", line 58, in request\n",
      "    return session.request(method=method, url=url, **kwargs)\n",
      "  File \"/home/wcd/app/anaconda3/lib/python3.6/site-packages/requests/sessions.py\", line 508, in request\n",
      "    resp = self.send(prep, **send_kwargs)\n",
      "  File \"/home/wcd/app/anaconda3/lib/python3.6/site-packages/requests/sessions.py\", line 612, in send\n",
      "    adapter = self.get_adapter(url=request.url)\n",
      "  File \"/home/wcd/app/anaconda3/lib/python3.6/site-packages/requests/sessions.py\", line 703, in get_adapter\n",
      "    raise InvalidSchema(\"No connection adapters were found for '%s'\" % url)\n",
      "requests.exceptions.InvalidSchema: No connection adapters were found for 'wcd:8097/events'\n"
     ]
    },
    {
     "data": {
      "text/plain": [
       "False"
      ]
     },
     "execution_count": 23,
     "metadata": {},
     "output_type": "execute_result"
    }
   ],
   "source": [
    "# boxplot 统计量方框\n",
    "X = np.random.rand(1000, 2)\n",
    "#print(X)\n",
    "X[:, 1] += 2\n",
    "#print(X)\n",
    "viz.boxplot(\n",
    "    X=X,\n",
    "    opts=dict(legend=['Men', 'Women'])\n",
    ")"
   ]
  },
  {
   "cell_type": "code",
   "execution_count": 24,
   "metadata": {},
   "outputs": [
    {
     "name": "stdout",
     "output_type": "stream",
     "text": [
      "Exception in user code:\n",
      "------------------------------------------------------------\n"
     ]
    },
    {
     "name": "stderr",
     "output_type": "stream",
     "text": [
      "Traceback (most recent call last):\n",
      "  File \"/home/wcd/app/anaconda3/lib/python3.6/site-packages/visdom/__init__.py\", line 240, in _send\n",
      "    data=json.dumps(msg),\n",
      "  File \"/home/wcd/app/anaconda3/lib/python3.6/site-packages/requests/api.py\", line 112, in post\n",
      "    return request('post', url, data=data, json=json, **kwargs)\n",
      "  File \"/home/wcd/app/anaconda3/lib/python3.6/site-packages/requests/api.py\", line 58, in request\n",
      "    return session.request(method=method, url=url, **kwargs)\n",
      "  File \"/home/wcd/app/anaconda3/lib/python3.6/site-packages/requests/sessions.py\", line 508, in request\n",
      "    resp = self.send(prep, **send_kwargs)\n",
      "  File \"/home/wcd/app/anaconda3/lib/python3.6/site-packages/requests/sessions.py\", line 612, in send\n",
      "    adapter = self.get_adapter(url=request.url)\n",
      "  File \"/home/wcd/app/anaconda3/lib/python3.6/site-packages/requests/sessions.py\", line 703, in get_adapter\n",
      "    raise InvalidSchema(\"No connection adapters were found for '%s'\" % url)\n",
      "requests.exceptions.InvalidSchema: No connection adapters were found for 'wcd:8097/events'\n"
     ]
    }
   ],
   "source": [
    "# contour 等高线\n",
    "x = np.tile(np.arange(1, 101), (100, 1))\n",
    "y = x.transpose()\n",
    "X = np.exp((((x - 50) ** 2) + ((y - 50) ** 2)) / -(20.0 ** 2))\n",
    "viz.contour(X=X, opts=dict(colormap='Viridis'))"
   ]
  },
  {
   "cell_type": "code",
   "execution_count": 25,
   "metadata": {},
   "outputs": [
    {
     "name": "stdout",
     "output_type": "stream",
     "text": [
      "Exception in user code:\n",
      "------------------------------------------------------------\n"
     ]
    },
    {
     "name": "stderr",
     "output_type": "stream",
     "text": [
      "Traceback (most recent call last):\n",
      "  File \"/home/wcd/app/anaconda3/lib/python3.6/site-packages/visdom/__init__.py\", line 240, in _send\n",
      "    data=json.dumps(msg),\n",
      "  File \"/home/wcd/app/anaconda3/lib/python3.6/site-packages/requests/api.py\", line 112, in post\n",
      "    return request('post', url, data=data, json=json, **kwargs)\n",
      "  File \"/home/wcd/app/anaconda3/lib/python3.6/site-packages/requests/api.py\", line 58, in request\n",
      "    return session.request(method=method, url=url, **kwargs)\n",
      "  File \"/home/wcd/app/anaconda3/lib/python3.6/site-packages/requests/sessions.py\", line 508, in request\n",
      "    resp = self.send(prep, **send_kwargs)\n",
      "  File \"/home/wcd/app/anaconda3/lib/python3.6/site-packages/requests/sessions.py\", line 612, in send\n",
      "    adapter = self.get_adapter(url=request.url)\n",
      "  File \"/home/wcd/app/anaconda3/lib/python3.6/site-packages/requests/sessions.py\", line 703, in get_adapter\n",
      "    raise InvalidSchema(\"No connection adapters were found for '%s'\" % url)\n",
      "requests.exceptions.InvalidSchema: No connection adapters were found for 'wcd:8097/events'\n"
     ]
    }
   ],
   "source": [
    "import math\n",
    "# stemplot\n",
    "Y = np.linspace(0, 2 * math.pi, 70)\n",
    "X = np.column_stack((np.sin(Y), np.cos(Y)))\n",
    "win = viz.stem(\n",
    "    X=X,\n",
    "    Y=Y,\n",
    "    opts=dict(legend=['Sine', 'Cosine'])\n",
    ")"
   ]
  },
  {
   "cell_type": "code",
   "execution_count": 26,
   "metadata": {},
   "outputs": [
    {
     "name": "stdout",
     "output_type": "stream",
     "text": [
      "Exception in user code:\n",
      "------------------------------------------------------------\n"
     ]
    },
    {
     "name": "stderr",
     "output_type": "stream",
     "text": [
      "Traceback (most recent call last):\n",
      "  File \"/home/wcd/app/anaconda3/lib/python3.6/site-packages/visdom/__init__.py\", line 240, in _send\n",
      "    data=json.dumps(msg),\n",
      "  File \"/home/wcd/app/anaconda3/lib/python3.6/site-packages/requests/api.py\", line 112, in post\n",
      "    return request('post', url, data=data, json=json, **kwargs)\n",
      "  File \"/home/wcd/app/anaconda3/lib/python3.6/site-packages/requests/api.py\", line 58, in request\n",
      "    return session.request(method=method, url=url, **kwargs)\n",
      "  File \"/home/wcd/app/anaconda3/lib/python3.6/site-packages/requests/sessions.py\", line 508, in request\n",
      "    resp = self.send(prep, **send_kwargs)\n",
      "  File \"/home/wcd/app/anaconda3/lib/python3.6/site-packages/requests/sessions.py\", line 612, in send\n",
      "    adapter = self.get_adapter(url=request.url)\n",
      "  File \"/home/wcd/app/anaconda3/lib/python3.6/site-packages/requests/sessions.py\", line 703, in get_adapter\n",
      "    raise InvalidSchema(\"No connection adapters were found for '%s'\" % url)\n",
      "requests.exceptions.InvalidSchema: No connection adapters were found for 'wcd:8097/events'\n"
     ]
    }
   ],
   "source": [
    "# surface 表面\n",
    "viz.surf(X=X, opts=dict(colormap='Hot'))"
   ]
  },
  {
   "cell_type": "code",
   "execution_count": 27,
   "metadata": {
    "collapsed": true
   },
   "outputs": [],
   "source": [
    "import torch"
   ]
  },
  {
   "cell_type": "code",
   "execution_count": 28,
   "metadata": {},
   "outputs": [
    {
     "name": "stdout",
     "output_type": "stream",
     "text": [
      "\n",
      "-0.3490\n",
      "[torch.FloatTensor of size 1x1]\n",
      "\n",
      "\n",
      "-0.3490\n",
      "[torch.FloatTensor of size 1]\n",
      "\n",
      "[[-0.34896106]]\n",
      "[-0.34896106]\n",
      "Exception in user code:\n",
      "------------------------------------------------------------\n"
     ]
    },
    {
     "name": "stderr",
     "output_type": "stream",
     "text": [
      "Traceback (most recent call last):\n",
      "  File \"/home/wcd/app/anaconda3/lib/python3.6/site-packages/visdom/__init__.py\", line 240, in _send\n",
      "    data=json.dumps(msg),\n",
      "  File \"/home/wcd/app/anaconda3/lib/python3.6/site-packages/requests/api.py\", line 112, in post\n",
      "    return request('post', url, data=data, json=json, **kwargs)\n",
      "  File \"/home/wcd/app/anaconda3/lib/python3.6/site-packages/requests/api.py\", line 58, in request\n",
      "    return session.request(method=method, url=url, **kwargs)\n",
      "  File \"/home/wcd/app/anaconda3/lib/python3.6/site-packages/requests/sessions.py\", line 508, in request\n",
      "    resp = self.send(prep, **send_kwargs)\n",
      "  File \"/home/wcd/app/anaconda3/lib/python3.6/site-packages/requests/sessions.py\", line 612, in send\n",
      "    adapter = self.get_adapter(url=request.url)\n",
      "  File \"/home/wcd/app/anaconda3/lib/python3.6/site-packages/requests/sessions.py\", line 703, in get_adapter\n",
      "    raise InvalidSchema(\"No connection adapters were found for '%s'\" % url)\n",
      "requests.exceptions.InvalidSchema: No connection adapters were found for 'wcd:8097/events'\n"
     ]
    },
    {
     "data": {
      "text/plain": [
       "False"
      ]
     },
     "execution_count": 28,
     "metadata": {},
     "output_type": "execute_result"
    }
   ],
   "source": [
    "from torch.autograd import Variable\n",
    "import numpy as np\n",
    "x=Variable(torch.Tensor(np.random.randn(1,1)))\n",
    "m=x.mean()\n",
    "print(x.data)\n",
    "print(x.data[0])\n",
    "print(x.data.numpy())\n",
    "print(x.data[0].numpy())\n",
    "#viz.line(Y=x.data.numpy())\n",
    "viz=visdom.Visdom(\"wcd\")\n",
    "viz.line(\n",
    "    X=np.ones(1),\n",
    "         Y=x.data[0].numpy()\n",
    "        )"
   ]
  },
  {
   "cell_type": "code",
   "execution_count": 29,
   "metadata": {},
   "outputs": [
    {
     "name": "stdout",
     "output_type": "stream",
     "text": [
      "Exception in user code:\n",
      "------------------------------------------------------------\n"
     ]
    },
    {
     "name": "stderr",
     "output_type": "stream",
     "text": [
      "Traceback (most recent call last):\n",
      "  File \"/home/wcd/app/anaconda3/lib/python3.6/site-packages/visdom/__init__.py\", line 240, in _send\n",
      "    data=json.dumps(msg),\n",
      "  File \"/home/wcd/app/anaconda3/lib/python3.6/site-packages/requests/api.py\", line 112, in post\n",
      "    return request('post', url, data=data, json=json, **kwargs)\n",
      "  File \"/home/wcd/app/anaconda3/lib/python3.6/site-packages/requests/api.py\", line 58, in request\n",
      "    return session.request(method=method, url=url, **kwargs)\n",
      "  File \"/home/wcd/app/anaconda3/lib/python3.6/site-packages/requests/sessions.py\", line 508, in request\n",
      "    resp = self.send(prep, **send_kwargs)\n",
      "  File \"/home/wcd/app/anaconda3/lib/python3.6/site-packages/requests/sessions.py\", line 612, in send\n",
      "    adapter = self.get_adapter(url=request.url)\n",
      "  File \"/home/wcd/app/anaconda3/lib/python3.6/site-packages/requests/sessions.py\", line 703, in get_adapter\n",
      "    raise InvalidSchema(\"No connection adapters were found for '%s'\" % url)\n",
      "requests.exceptions.InvalidSchema: No connection adapters were found for 'wcd:8097/events'\n"
     ]
    },
    {
     "data": {
      "text/plain": [
       "False"
      ]
     },
     "execution_count": 29,
     "metadata": {},
     "output_type": "execute_result"
    }
   ],
   "source": [
    "from PIL import Image,ImageFilter\n",
    "from torchvision import transforms\n",
    "l = Image.open(\"/home/wcd/Projects/Pytorch-examples/fast_neural_style/images/style-images/flowers.bmp\").convert('L')\n",
    "img = Image.merge(\"RGB\", (l, l, l))\n",
    "transform = transforms.Compose([\n",
    "        transforms.ToTensor(),\n",
    "        transforms.Lambda(lambda x_HR: x_HR.mul(255))\n",
    "    ])\n",
    "imgtensor = transform(img)\n",
    "viz.image(\n",
    "        imgtensor,\n",
    "        win=win,\n",
    "        opts=dict(title='噪点', caption='好噪啊。'),\n",
    "    )"
   ]
  },
  {
   "cell_type": "code",
   "execution_count": 30,
   "metadata": {},
   "outputs": [
    {
     "name": "stdout",
     "output_type": "stream",
     "text": [
      "(1,)\n",
      "(1,)\n"
     ]
    },
    {
     "data": {
      "text/plain": [
       "'pane_35924315b75e74'"
      ]
     },
     "execution_count": 30,
     "metadata": {},
     "output_type": "execute_result"
    }
   ],
   "source": [
    "viz=visdom.Visdom()\n",
    "X=np.array([1])\n",
    "Y=torch.ones(1).numpy()\n",
    "print(X.shape)\n",
    "print(Y.shape)\n",
    "#X.ndim\n",
    "viz.line(\n",
    "    X=X,\n",
    "    Y=Y,\n",
    "    # 制定了update源是win这个pane\n",
    ")"
   ]
  },
  {
   "cell_type": "code",
   "execution_count": 31,
   "metadata": {},
   "outputs": [
    {
     "data": {
      "text/plain": [
       "\n",
       "(0 ,.,.) = \n",
       "   1   1   1   1   1   1   1   1   1   1\n",
       "   1   1   1   1   1   1   1   1   1   1\n",
       "   1   1   1   1   1   1   1   1   1   1\n",
       "   1   1   1   1   1   1   1   1   1   1\n",
       "   1   1   1   1   1   1   1   1   1   1\n",
       "   1   1   1   1   1   1   1   1   1   1\n",
       "   1   1   1   1   1   1   1   1   1   1\n",
       "   1   1   1   1   1   1   1   1   1   1\n",
       "   1   1   1   1   1   1   1   1   1   1\n",
       "   1   1   1   1   1   1   1   1   1   1\n",
       "\n",
       "(1 ,.,.) = \n",
       "   1   1   1   1   1   1   1   1   1   1\n",
       "   1   1   1   1   1   1   1   1   1   1\n",
       "   1   1   1   1   1   1   1   1   1   1\n",
       "   1   1   1   1   1   1   1   1   1   1\n",
       "   1   1   1   1   1   1   1   1   1   1\n",
       "   1   1   1   1   1   1   1   1   1   1\n",
       "   1   1   1   1   1   1   1   1   1   1\n",
       "   1   1   1   1   1   1   1   1   1   1\n",
       "   1   1   1   1   1   1   1   1   1   1\n",
       "   1   1   1   1   1   1   1   1   1   1\n",
       "\n",
       "(2 ,.,.) = \n",
       "   1   1   1   1   1   1   1   1   1   1\n",
       "   1   1   1   1   1   1   1   1   1   1\n",
       "   1   1   1   1   1   1   1   1   1   1\n",
       "   1   1   1   1   1   1   1   1   1   1\n",
       "   1   1   1   1   1   1   1   1   1   1\n",
       "   1   1   1   1   1   1   1   1   1   1\n",
       "   1   1   1   1   1   1   1   1   1   1\n",
       "   1   1   1   1   1   1   1   1   1   1\n",
       "   1   1   1   1   1   1   1   1   1   1\n",
       "   1   1   1   1   1   1   1   1   1   1\n",
       "[torch.FloatTensor of size 3x10x10]"
      ]
     },
     "execution_count": 31,
     "metadata": {},
     "output_type": "execute_result"
    }
   ],
   "source": [
    "x = torch.ones(3,10,10)\n",
    "y=x.repeat(1, 1,1,1)\n",
    "y.squeeze(0)"
   ]
  },
  {
   "cell_type": "code",
   "execution_count": 32,
   "metadata": {
    "collapsed": true
   },
   "outputs": [],
   "source": [
    "def drawloss(viz,loss_win,batch_id,loss):\n",
    "    if loss_win is None:\n",
    "        loss_win = viz.line(\n",
    "            # X=np.column_stack((batch_id, batch_id, batch_id)),\n",
    "            X=np.column_stack((batch_id, batch_id)),\n",
    "            Y=np.column_stack(loss),\n",
    "            opts=dict(\n",
    "                markers=False,\n",
    "                legend=['train','val'],\n",
    "            ),\n",
    "        )\n",
    "    else:\n",
    "        loss_win = viz.line(\n",
    "            # must specify x_HR-values for line update\n",
    "            X=np.column_stack((batch_id, batch_id)),\n",
    "            Y=np.column_stack(loss),\n",
    "            # 制定了update源是win这个pane\n",
    "            win=loss_win,\n",
    "            update='append',\n",
    "            opts=dict(\n",
    "                markers=False,\n",
    "                legend=['train','val'],\n",
    "            ),\n",
    "        )\n",
    "    return loss_win"
   ]
  },
  {
   "cell_type": "code",
   "execution_count": 33,
   "metadata": {
    "collapsed": true
   },
   "outputs": [],
   "source": [
    "import numpy as np\n",
    "import visdom\n",
    "viz=visdom.Visdom()\n",
    "loss_win=None"
   ]
  },
  {
   "cell_type": "code",
   "execution_count": 34,
   "metadata": {
    "collapsed": true
   },
   "outputs": [],
   "source": [
    "loss_win = drawloss(viz,loss_win,3,(3.3,5.4))"
   ]
  },
  {
   "cell_type": "code",
   "execution_count": 35,
   "metadata": {},
   "outputs": [
    {
     "data": {
      "text/plain": [
       "array([[ 2.4],\n",
       "       [ 3.6]])"
      ]
     },
     "execution_count": 35,
     "metadata": {},
     "output_type": "execute_result"
    }
   ],
   "source": [
    "np.array([[2.4],[3.6]])"
   ]
  },
  {
   "cell_type": "code",
   "execution_count": 36,
   "metadata": {},
   "outputs": [
    {
     "data": {
      "text/plain": [
       "array([ 2.4,  3.6])"
      ]
     },
     "execution_count": 36,
     "metadata": {},
     "output_type": "execute_result"
    }
   ],
   "source": [
    "np.array([2.4,3.6])"
   ]
  },
  {
   "cell_type": "code",
   "execution_count": 37,
   "metadata": {},
   "outputs": [
    {
     "data": {
      "text/plain": [
       "array([[ 2.4,  3.6]])"
      ]
     },
     "execution_count": 37,
     "metadata": {},
     "output_type": "execute_result"
    }
   ],
   "source": [
    "np.column_stack([2.4,3.6])"
   ]
  },
  {
   "cell_type": "code",
   "execution_count": 38,
   "metadata": {
    "collapsed": true
   },
   "outputs": [],
   "source": [
    "def normalize_batch(batch):\n",
    "    # normalize using imagenet mean and std\n",
    "    mean = batch.data.new(batch.data.size())\n",
    "    std = batch.data.new(batch.data.size())\n",
    "    mean[:, 0, :, :] = 0.485\n",
    "    mean[:, 1, :, :] = 0.456\n",
    "    mean[:, 2, :, :] = 0.406\n",
    "    std[:, 0, :, :] = 0.229\n",
    "    std[:, 1, :, :] = 0.224\n",
    "    std[:, 2, :, :] = 0.225\n",
    "    batch = torch.div(batch, 255.0)\n",
    "    batch -= Variable(mean,volatile=False)\n",
    "    batch /= Variable(std,volatile=False)\n",
    "    return batch\n",
    "\n",
    "def unnormalize_batch(batch):\n",
    "    mean = batch.data.new(batch.data.size())\n",
    "    std = batch.data.new(batch.data.size())\n",
    "    mean[:, 0, :, :] = 0.485\n",
    "    mean[:, 1, :, :] = 0.456\n",
    "    mean[:, 2, :, :] = 0.406\n",
    "    std[:, 0, :, :] = 0.229\n",
    "    std[:, 1, :, :] = 0.224\n",
    "    std[:, 2, :, :] = 0.225\n",
    "    batch = torch.mul(batch,Variable(std,volatile=False))\n",
    "    batch += Variable(mean,volatile=False)\n",
    "    batch = torch.mul(batch, 255.0)\n",
    "    return batch"
   ]
  },
  {
   "cell_type": "code",
   "execution_count": 39,
   "metadata": {
    "collapsed": true
   },
   "outputs": [],
   "source": [
    "from torch.autograd import Variable\n",
    "import torch"
   ]
  },
  {
   "cell_type": "code",
   "execution_count": 40,
   "metadata": {},
   "outputs": [
    {
     "name": "stdout",
     "output_type": "stream",
     "text": [
      "\n",
      "(0 ,0 ,.,.) = \n",
      "  188.7007  187.2514  175.6069  246.0495  241.6521\n",
      "  192.8040  251.4220  104.6568  226.2137  241.1339\n",
      "  122.5694   39.1596   39.2462  113.6772  143.4856\n",
      "   40.4655  174.3336  164.4531  179.6548  250.0267\n",
      "   48.8512   57.1644  193.7050  194.3627   42.6835\n",
      "\n",
      "(0 ,1 ,.,.) = \n",
      "   88.2197   52.2057  158.3724   98.8203  210.1734\n",
      "  215.9200  198.3512   44.5079   99.8735   52.7870\n",
      "  186.2892   29.0450  201.3943  253.1179   42.8052\n",
      "   40.2775  202.1394   69.6752   10.7073   65.3108\n",
      "  247.3227  134.3512  161.4795  110.2462   74.3193\n",
      "\n",
      "(0 ,2 ,.,.) = \n",
      "   62.7139  183.7134  194.2427  179.7529  223.2904\n",
      "  157.1564  192.7075   21.9927  175.3250   85.4560\n",
      "  121.5404  238.0463  143.9700  214.2897  132.4322\n",
      "  251.3968   49.6626  253.6863  244.7900  172.7228\n",
      "  112.6649  236.7970  101.6001   94.7343  154.0119\n",
      "\n",
      "(1 ,0 ,.,.) = \n",
      "  109.3257  186.9758  188.5164   66.3200   63.4892\n",
      "   64.5432    0.0222  223.6622  216.6056   93.3440\n",
      "  141.3144  177.4105  169.5902  226.7305   66.2362\n",
      "   44.0116  204.3205   49.2751  178.0933   75.3043\n",
      "   20.7346   38.4539  230.0144  140.5564  245.0173\n",
      "\n",
      "(1 ,1 ,.,.) = \n",
      "  114.1605  159.8335  233.7382  164.3564   15.2354\n",
      "  244.9119  188.5514  168.4430  103.6088  233.0101\n",
      "  193.5148  187.3385  186.8973  235.6478   48.5596\n",
      "  232.5183  138.5508  191.2435   84.7624  211.1472\n",
      "   10.6819  228.6863   68.9551  230.7658  157.1166\n",
      "\n",
      "(1 ,2 ,.,.) = \n",
      "   35.5420  175.2695  125.9135   43.7671   65.6064\n",
      "   13.3543  186.2927   29.0477  170.2412   81.0598\n",
      "  233.4171  140.2918   53.0828  211.7704  199.5171\n",
      "    8.2078  240.0995  244.2890   36.0150  217.0387\n",
      "   45.9543  223.0863  178.9175  134.9522   71.0748\n",
      "[torch.DoubleTensor of size 2x3x5x5]\n",
      "\n"
     ]
    }
   ],
   "source": [
    "tensor = torch.from_numpy(np.random.rand(2,3,5,5))\n",
    "tensor = tensor.mul_(255).clamp(0,255)\n",
    "print(tensor)"
   ]
  },
  {
   "cell_type": "code",
   "execution_count": 41,
   "metadata": {},
   "outputs": [
    {
     "name": "stdout",
     "output_type": "stream",
     "text": [
      "Variable containing:\n",
      "(0 ,0 ,.,.) = \n",
      "  1.1135  1.0887  0.8893  2.0956  2.0203\n",
      "  1.1838  2.1876 -0.3257  1.7560  2.0115\n",
      " -0.0189 -1.4473 -1.4458 -0.1712  0.3393\n",
      " -1.4249  0.8675  0.6983  0.9586  2.1637\n",
      " -1.2813 -1.1390  1.1992  1.2105 -1.3870\n",
      "\n",
      "(0 ,1 ,.,.) = \n",
      " -0.4913 -1.1217  0.7369 -0.3057  1.6438\n",
      "  1.7444  1.4368 -1.2565 -0.2872 -1.1116\n",
      "  1.2257 -1.5272  1.4901  2.3956 -1.2863\n",
      " -1.3306  1.5031 -0.8159 -1.8483 -0.8923\n",
      "  2.2942  0.3164  0.7913 -0.1056 -0.7346\n",
      "\n",
      "(0 ,2 ,.,.) = \n",
      " -0.7114  1.3975  1.5810  1.3285  2.0873\n",
      "  0.9347  1.5543 -1.4211  1.2513 -0.3150\n",
      "  0.3139  2.3445  0.7048  1.9305  0.5037\n",
      "  2.5772 -0.9389  2.6171  2.4620  1.2060\n",
      "  0.1592  2.3227 -0.0336 -0.1533  0.8799\n",
      "\n",
      "(1 ,0 ,.,.) = \n",
      " -0.2457  1.0840  1.1104 -0.9822 -1.0307\n",
      " -1.0126 -2.1175  1.7123  1.5914 -0.5194\n",
      "  0.3021  0.9202  0.7863  1.7648 -0.9836\n",
      " -1.3642  1.3810 -1.2741  0.9319 -0.8283\n",
      " -1.7628 -1.4594  1.8210  0.2891  2.0780\n",
      "\n",
      "(1 ,1 ,.,.) = \n",
      " -0.0371  0.7625  2.0563  0.8417 -1.7690\n",
      "  2.2520  1.2653  0.9132 -0.2218  2.0436\n",
      "  1.3521  1.2440  1.2363  2.0898 -1.1856\n",
      "  2.0350  0.3899  1.3124 -0.5518  1.6608\n",
      " -1.8487  1.9679 -0.8285  2.0043  0.7149\n",
      "\n",
      "(1 ,2 ,.,.) = \n",
      " -1.1850  1.2504  0.3901 -1.0416 -0.6610\n",
      " -1.5717  1.4425 -1.2982  1.1627 -0.3916\n",
      "  2.2638  0.6407 -0.8793  1.8865  1.6730\n",
      " -1.6614  2.3803  2.4533 -1.1767  1.9784\n",
      " -1.0035  2.0838  1.3139  0.5477 -0.5657\n",
      "[torch.DoubleTensor of size 2x3x5x5]\n",
      "\n"
     ]
    }
   ],
   "source": [
    "vt = Variable(tensor,requires_grad = True)\n",
    "norm = normalize_batch(vt)\n",
    "print(norm)"
   ]
  },
  {
   "cell_type": "code",
   "execution_count": 42,
   "metadata": {},
   "outputs": [
    {
     "name": "stdout",
     "output_type": "stream",
     "text": [
      "Variable containing:\n",
      "(0 ,0 ,.,.) = \n",
      "  188.7007  187.2514  175.6069  246.0495  241.6521\n",
      "  192.8040  251.4220  104.6568  226.2137  241.1339\n",
      "  122.5694   39.1596   39.2462  113.6772  143.4856\n",
      "   40.4655  174.3336  164.4531  179.6548  250.0267\n",
      "   48.8512   57.1644  193.7050  194.3627   42.6835\n",
      "\n",
      "(0 ,1 ,.,.) = \n",
      "   88.2197   52.2057  158.3724   98.8203  210.1734\n",
      "  215.9200  198.3512   44.5079   99.8735   52.7870\n",
      "  186.2892   29.0450  201.3943  253.1179   42.8052\n",
      "   40.2775  202.1394   69.6752   10.7073   65.3108\n",
      "  247.3227  134.3512  161.4795  110.2462   74.3193\n",
      "\n",
      "(0 ,2 ,.,.) = \n",
      "   62.7139  183.7134  194.2427  179.7529  223.2904\n",
      "  157.1564  192.7075   21.9927  175.3250   85.4560\n",
      "  121.5404  238.0463  143.9700  214.2897  132.4322\n",
      "  251.3968   49.6626  253.6863  244.7900  172.7228\n",
      "  112.6649  236.7970  101.6001   94.7343  154.0119\n",
      "\n",
      "(1 ,0 ,.,.) = \n",
      "  109.3257  186.9758  188.5164   66.3200   63.4892\n",
      "   64.5432    0.0222  223.6622  216.6056   93.3440\n",
      "  141.3144  177.4105  169.5902  226.7305   66.2362\n",
      "   44.0116  204.3205   49.2751  178.0933   75.3043\n",
      "   20.7346   38.4539  230.0144  140.5564  245.0173\n",
      "\n",
      "(1 ,1 ,.,.) = \n",
      "  114.1605  159.8335  233.7382  164.3564   15.2354\n",
      "  244.9119  188.5514  168.4430  103.6088  233.0101\n",
      "  193.5148  187.3385  186.8973  235.6478   48.5596\n",
      "  232.5183  138.5508  191.2435   84.7624  211.1472\n",
      "   10.6819  228.6863   68.9551  230.7658  157.1166\n",
      "\n",
      "(1 ,2 ,.,.) = \n",
      "   35.5420  175.2695  125.9135   43.7671   65.6064\n",
      "   13.3543  186.2927   29.0477  170.2412   81.0598\n",
      "  233.4171  140.2918   53.0828  211.7704  199.5171\n",
      "    8.2078  240.0995  244.2890   36.0150  217.0387\n",
      "   45.9543  223.0863  178.9175  134.9522   71.0748\n",
      "[torch.DoubleTensor of size 2x3x5x5]\n",
      "\n"
     ]
    }
   ],
   "source": [
    "unorm = unnormalize_batch(norm)\n",
    "print(unorm)"
   ]
  },
  {
   "cell_type": "code",
   "execution_count": 43,
   "metadata": {},
   "outputs": [
    {
     "data": {
      "text/plain": [
       "Variable containing:\n",
       "(0 ,0 ,.,.) = \n",
       "1.00000e-14 *\n",
       "   0.0000  0.0000  0.0000  0.0000  2.8422\n",
       "   0.0000  0.0000  0.0000  0.0000  2.8422\n",
       "   0.0000  0.0000  0.0000  0.0000  0.0000\n",
       "   0.0000  0.0000  0.0000  0.0000  0.0000\n",
       "   0.0000  0.0000  0.0000  0.0000  0.0000\n",
       "\n",
       "(0 ,1 ,.,.) = \n",
       "1.00000e-14 *\n",
       "   0.0000  0.0000  0.0000  0.0000  0.0000\n",
       "   0.0000  0.0000  0.0000  0.0000  0.7105\n",
       "   0.0000  0.0000  0.0000  2.8422  0.0000\n",
       "   0.0000  0.0000  0.0000  0.0000  0.0000\n",
       "   0.0000  0.0000  0.0000  0.0000  0.0000\n",
       "\n",
       "(0 ,2 ,.,.) = \n",
       "1.00000e-14 *\n",
       "   0.0000  0.0000  0.0000  0.0000  0.0000\n",
       "   0.0000  0.0000  0.0000  0.0000  0.0000\n",
       "   0.0000  0.0000  0.0000  0.0000  0.0000\n",
       "   0.0000  0.0000  0.0000  0.0000  0.0000\n",
       "   0.0000  0.0000  0.0000  0.0000  0.0000\n",
       "\n",
       "(1 ,0 ,.,.) = \n",
       "1.00000e-14 *\n",
       "   0.0000  0.0000  0.0000  0.0000  0.0000\n",
       "   0.0000  0.0000  0.0000  0.0000  0.0000\n",
       "   0.0000  0.0000  0.0000  0.0000  0.0000\n",
       "   0.0000  0.0000  0.0000  0.0000  0.0000\n",
       "   0.0000  0.0000  0.0000  0.0000  0.0000\n",
       "\n",
       "(1 ,1 ,.,.) = \n",
       "1.00000e-14 *\n",
       "   0.0000  0.0000  0.0000  0.0000  0.0000\n",
       "   0.0000  0.0000  0.0000  0.0000  0.0000\n",
       "   0.0000  0.0000  0.0000  0.0000  0.0000\n",
       "   2.8422  0.0000  0.0000  0.0000  0.0000\n",
       "   0.0000  0.0000  0.0000  0.0000  0.0000\n",
       "\n",
       "(1 ,2 ,.,.) = \n",
       "1.00000e-14 *\n",
       "   0.0000  0.0000  0.0000  0.7105  0.0000\n",
       "   0.0000  0.0000  0.0000  0.0000  0.0000\n",
       "   0.0000  0.0000  0.0000  0.0000  0.0000\n",
       "   0.0000  0.0000  0.0000  0.0000  0.0000\n",
       "   0.0000  0.0000  0.0000  0.0000  0.0000\n",
       "[torch.DoubleTensor of size 2x3x5x5]"
      ]
     },
     "execution_count": 43,
     "metadata": {},
     "output_type": "execute_result"
    }
   ],
   "source": [
    "torch.add(vt,-1*unorm)"
   ]
  },
  {
   "cell_type": "code",
   "execution_count": 44,
   "metadata": {
    "collapsed": true
   },
   "outputs": [],
   "source": [
    "import torch\n",
    "import torch.nn.init\n",
    "\n",
    "class TransformerNet(torch.nn.Module):\n",
    "    def __init__(self, mode='RGB'):\n",
    "        super(TransformerNet, self).__init__()\n",
    "        if mode is 'Y' :\n",
    "            channel = 1\n",
    "        else :\n",
    "            channel = 3\n",
    "        # Initial convolution layers\n",
    "        self.conv1 = ConvLayer(channel, 32, kernel_size=9, stride=1)\n",
    "        self.in1 = torch.nn.InstanceNorm2d(32, affine=True)\n",
    "        self.conv2 = ConvLayer(32, 64, kernel_size=3, stride=2)\n",
    "        self.in2 = torch.nn.InstanceNorm2d(64, affine=True)\n",
    "        self.conv3 = ConvLayer(64, 128, kernel_size=3, stride=2)\n",
    "        self.in3 = torch.nn.InstanceNorm2d(128, affine=True)\n",
    "        # Residual layers\n",
    "        self.res1 = ResidualBlock(128)\n",
    "        self.res2 = ResidualBlock(128)\n",
    "        self.res3 = ResidualBlock(128)\n",
    "        self.res4 = ResidualBlock(128)\n",
    "        self.res5 = ResidualBlock(128)\n",
    "        # Conv+PS upsampling Layers\n",
    "        self.ps1 = ConvPSLayer(128, 64, kernel_size=3, stride=1, upsample=2)\n",
    "        self.in4 = torch.nn.InstanceNorm2d(64, affine=True)\n",
    "        self.ps2 = ConvPSLayer(64, 32, kernel_size=3, stride=1, upsample=2)\n",
    "        self.in5 = torch.nn.InstanceNorm2d(32, affine=True)\n",
    "        self.conv4 = ConvLayer(32, channel, kernel_size=3, stride=1)\n",
    "        # Non-linearities\n",
    "        self.relu = torch.nn.ReLU()\n",
    "\n",
    "\n",
    "    def forward(self, X):\n",
    "        y = self.relu(self.in1(self.conv1(X)))\n",
    "        y = self.relu(self.in2(self.conv2(y)))\n",
    "        y = self.relu(self.in3(self.conv3(y)))\n",
    "        y = self.res1(y)\n",
    "        y = self.res2(y)\n",
    "        y = self.res3(y)\n",
    "        y = self.res4(y)\n",
    "        y = self.res5(y)\n",
    "        y = self.relu(self.in4(self.ps1(y)))\n",
    "        y = self.relu(self.in5(self.ps2(y)))\n",
    "        y = self.conv4(y)\n",
    "        #y += X\n",
    "        return y\n",
    "\n",
    "\n",
    "class ConvLayer(torch.nn.Module):\n",
    "    def __init__(self, in_channels, out_channels, kernel_size, stride):\n",
    "        super(ConvLayer, self).__init__()\n",
    "        reflection_padding = kernel_size // 2\n",
    "        self.reflection_pad = torch.nn.ReflectionPad2d(reflection_padding)\n",
    "        self.conv2d = torch.nn.Conv2d(in_channels, out_channels, kernel_size, stride)\n",
    "\n",
    "\n",
    "    def forward(self, x):\n",
    "        #out = self.reflection_pad(x)\n",
    "        out = self.conv2d(x)\n",
    "        return out\n",
    "\n",
    "\n",
    "class ResidualBlock(torch.nn.Module):\n",
    "    \"\"\"ResidualBlock\n",
    "    introduced in: https://arxiv.org/abs/1512.03385\n",
    "    recommended architecture: http://torch.ch/blog/2016/02/04/resnets.html\n",
    "    \"\"\"\n",
    "\n",
    "    def __init__(self, channels):\n",
    "        super(ResidualBlock, self).__init__()\n",
    "        self.conv1 = ConvLayer(channels, channels, kernel_size=3, stride=1)\n",
    "        self.in1 = torch.nn.InstanceNorm2d(channels, affine=True)\n",
    "        self.conv2 = ConvLayer(channels, channels, kernel_size=3, stride=1)\n",
    "        self.in2 = torch.nn.InstanceNorm2d(channels, affine=True)\n",
    "        self.relu = torch.nn.ReLU()\n",
    "\n",
    "    def forward(self, x):\n",
    "        residual = x\n",
    "        out = self.relu(self.in1(self.conv1(x)))\n",
    "        out = self.in2(self.conv2(out))\n",
    "        out = out + residual\n",
    "        return out\n",
    "\n",
    "\n",
    "class UpsampleConvLayer(torch.nn.Module):\n",
    "    \"\"\"UpsampleConvLayer\n",
    "    Upsamples the input and then does a convolution. This method gives better results\n",
    "    compared to ConvTranspose2d.\n",
    "    ref: http://distill.pub/2016/deconv-checkerboard/\n",
    "    \"\"\"\n",
    "\n",
    "    def __init__(self, in_channels, out_channels, kernel_size, stride, upsample=None):\n",
    "        super(UpsampleConvLayer, self).__init__()\n",
    "        self.upsample = upsample\n",
    "        if upsample:\n",
    "            self.upsample_layer = torch.nn.UpsamplingNearest2d(scale_factor=upsample)\n",
    "        reflection_padding = kernel_size // 2\n",
    "        self.reflection_pad = torch.nn.ReflectionPad2d(reflection_padding)\n",
    "        self.conv2d = torch.nn.Conv2d(in_channels, out_channels, kernel_size, stride)\n",
    "\n",
    "    def forward(self, x):\n",
    "        x_in = x\n",
    "        if self.upsample:\n",
    "            x_in = self.upsample_layer(x_in)\n",
    "        #out = self.reflection_pad(x_in)\n",
    "        out = self.conv2d(x_in)\n",
    "        return out\n",
    "\n",
    "\n",
    "class ConvPSLayer(torch.nn.Module):\n",
    "    \"\"\"\n",
    "    conv of (in,outxuxu,k,s)\n",
    "    follow by\n",
    "    pixel shuffle of scalling factor (u)\n",
    "    output is (bs out hxu wxu)\n",
    "    \"\"\"\n",
    "\n",
    "    def __init__(self, in_channels, out_channels, kernel_size, stride, upsample=None):\n",
    "        super(ConvPSLayer, self).__init__()\n",
    "        self.upsample = upsample\n",
    "        if upsample:\n",
    "            self.pixelshuffle_layer = torch.nn.PixelShuffle(upsample)\n",
    "        reflection_padding = kernel_size // 2\n",
    "        self.reflection_pad = torch.nn.ReflectionPad2d(reflection_padding)\n",
    "        self.conv2d = torch.nn.Conv2d(in_channels, out_channels*(upsample**2), kernel_size, stride)\n",
    "\n",
    "    def forward(self, x):\n",
    "\n",
    "        #out = self.reflection_pad(x)\n",
    "        out = self.conv2d(x)\n",
    "        if self.upsample:\n",
    "            out = self.pixelshuffle_layer(out)\n",
    "        return out"
   ]
  },
  {
   "cell_type": "code",
   "execution_count": 45,
   "metadata": {
    "collapsed": true
   },
   "outputs": [],
   "source": [
    "up = UpsampleConvLayer(4, 4, 3, 1, upsample=2).cuda()\n",
    "sp = ConvPSLayer(4, 4, 3, 1, upsample=2).cuda()\n",
    "cv = ConvLayer(4, 4, kernel_size=3, stride=1).cuda()"
   ]
  },
  {
   "cell_type": "code",
   "execution_count": 46,
   "metadata": {
    "collapsed": true
   },
   "outputs": [],
   "source": [
    "v = Variable(torch.from_numpy(np.random.rand(2,4,10,10))).cuda()"
   ]
  },
  {
   "cell_type": "code",
   "execution_count": 47,
   "metadata": {},
   "outputs": [
    {
     "ename": "RuntimeError",
     "evalue": "Input type (Double) and weight type (Float) should be the same",
     "output_type": "error",
     "traceback": [
      "\u001b[0;31m---------------------------------------------------------------------------\u001b[0m",
      "\u001b[0;31mRuntimeError\u001b[0m                              Traceback (most recent call last)",
      "\u001b[0;32m<ipython-input-47-5345b555a560>\u001b[0m in \u001b[0;36m<module>\u001b[0;34m()\u001b[0m\n\u001b[0;32m----> 1\u001b[0;31m \u001b[0mdiv2\u001b[0m \u001b[0;34m=\u001b[0m \u001b[0mcv\u001b[0m\u001b[0;34m(\u001b[0m\u001b[0mcv\u001b[0m\u001b[0;34m(\u001b[0m\u001b[0mv\u001b[0m\u001b[0;34m)\u001b[0m\u001b[0;34m)\u001b[0m\u001b[0;34m\u001b[0m\u001b[0m\n\u001b[0m\u001b[1;32m      2\u001b[0m \u001b[0mprint\u001b[0m\u001b[0;34m(\u001b[0m\u001b[0mdiv2\u001b[0m\u001b[0;34m.\u001b[0m\u001b[0msize\u001b[0m\u001b[0;34m(\u001b[0m\u001b[0;34m)\u001b[0m\u001b[0;34m)\u001b[0m\u001b[0;34m\u001b[0m\u001b[0m\n\u001b[1;32m      3\u001b[0m \u001b[0mprint\u001b[0m\u001b[0;34m(\u001b[0m\u001b[0mup\u001b[0m\u001b[0;34m(\u001b[0m\u001b[0mup\u001b[0m\u001b[0;34m(\u001b[0m\u001b[0mdiv2\u001b[0m\u001b[0;34m)\u001b[0m\u001b[0;34m)\u001b[0m\u001b[0;34m.\u001b[0m\u001b[0msize\u001b[0m\u001b[0;34m(\u001b[0m\u001b[0;34m)\u001b[0m\u001b[0;34m)\u001b[0m\u001b[0;34m\u001b[0m\u001b[0m\n\u001b[1;32m      4\u001b[0m \u001b[0;34m\u001b[0m\u001b[0m\n\u001b[1;32m      5\u001b[0m \u001b[0mprint\u001b[0m\u001b[0;34m(\u001b[0m\u001b[0mstr\u001b[0m\u001b[0;34m(\u001b[0m\u001b[0mv\u001b[0m\u001b[0;34m.\u001b[0m\u001b[0msize\u001b[0m\u001b[0;34m(\u001b[0m\u001b[0;34m)\u001b[0m\u001b[0;34m)\u001b[0m\u001b[0;34m+\u001b[0m\u001b[0;34m\"conv: \"\u001b[0m\u001b[0;34m+\u001b[0m\u001b[0mstr\u001b[0m\u001b[0;34m(\u001b[0m\u001b[0mcv\u001b[0m\u001b[0;34m(\u001b[0m\u001b[0mv\u001b[0m\u001b[0;34m)\u001b[0m\u001b[0;34m.\u001b[0m\u001b[0msize\u001b[0m\u001b[0;34m(\u001b[0m\u001b[0;34m)\u001b[0m\u001b[0;34m)\u001b[0m\u001b[0;34m)\u001b[0m\u001b[0;34m\u001b[0m\u001b[0m\n",
      "\u001b[0;32m/home/wcd/app/anaconda3/lib/python3.6/site-packages/torch/nn/modules/module.py\u001b[0m in \u001b[0;36m__call__\u001b[0;34m(self, *input, **kwargs)\u001b[0m\n\u001b[1;32m    222\u001b[0m         \u001b[0;32mfor\u001b[0m \u001b[0mhook\u001b[0m \u001b[0;32min\u001b[0m \u001b[0mself\u001b[0m\u001b[0;34m.\u001b[0m\u001b[0m_forward_pre_hooks\u001b[0m\u001b[0;34m.\u001b[0m\u001b[0mvalues\u001b[0m\u001b[0;34m(\u001b[0m\u001b[0;34m)\u001b[0m\u001b[0;34m:\u001b[0m\u001b[0;34m\u001b[0m\u001b[0m\n\u001b[1;32m    223\u001b[0m             \u001b[0mhook\u001b[0m\u001b[0;34m(\u001b[0m\u001b[0mself\u001b[0m\u001b[0;34m,\u001b[0m \u001b[0minput\u001b[0m\u001b[0;34m)\u001b[0m\u001b[0;34m\u001b[0m\u001b[0m\n\u001b[0;32m--> 224\u001b[0;31m         \u001b[0mresult\u001b[0m \u001b[0;34m=\u001b[0m \u001b[0mself\u001b[0m\u001b[0;34m.\u001b[0m\u001b[0mforward\u001b[0m\u001b[0;34m(\u001b[0m\u001b[0;34m*\u001b[0m\u001b[0minput\u001b[0m\u001b[0;34m,\u001b[0m \u001b[0;34m**\u001b[0m\u001b[0mkwargs\u001b[0m\u001b[0;34m)\u001b[0m\u001b[0;34m\u001b[0m\u001b[0m\n\u001b[0m\u001b[1;32m    225\u001b[0m         \u001b[0;32mfor\u001b[0m \u001b[0mhook\u001b[0m \u001b[0;32min\u001b[0m \u001b[0mself\u001b[0m\u001b[0;34m.\u001b[0m\u001b[0m_forward_hooks\u001b[0m\u001b[0;34m.\u001b[0m\u001b[0mvalues\u001b[0m\u001b[0;34m(\u001b[0m\u001b[0;34m)\u001b[0m\u001b[0;34m:\u001b[0m\u001b[0;34m\u001b[0m\u001b[0m\n\u001b[1;32m    226\u001b[0m             \u001b[0mhook_result\u001b[0m \u001b[0;34m=\u001b[0m \u001b[0mhook\u001b[0m\u001b[0;34m(\u001b[0m\u001b[0mself\u001b[0m\u001b[0;34m,\u001b[0m \u001b[0minput\u001b[0m\u001b[0;34m,\u001b[0m \u001b[0mresult\u001b[0m\u001b[0;34m)\u001b[0m\u001b[0;34m\u001b[0m\u001b[0m\n",
      "\u001b[0;32m<ipython-input-44-a3485b8d5515>\u001b[0m in \u001b[0;36mforward\u001b[0;34m(self, x)\u001b[0m\n\u001b[1;32m     58\u001b[0m     \u001b[0;32mdef\u001b[0m \u001b[0mforward\u001b[0m\u001b[0;34m(\u001b[0m\u001b[0mself\u001b[0m\u001b[0;34m,\u001b[0m \u001b[0mx\u001b[0m\u001b[0;34m)\u001b[0m\u001b[0;34m:\u001b[0m\u001b[0;34m\u001b[0m\u001b[0m\n\u001b[1;32m     59\u001b[0m         \u001b[0;31m#out = self.reflection_pad(x)\u001b[0m\u001b[0;34m\u001b[0m\u001b[0;34m\u001b[0m\u001b[0m\n\u001b[0;32m---> 60\u001b[0;31m         \u001b[0mout\u001b[0m \u001b[0;34m=\u001b[0m \u001b[0mself\u001b[0m\u001b[0;34m.\u001b[0m\u001b[0mconv2d\u001b[0m\u001b[0;34m(\u001b[0m\u001b[0mx\u001b[0m\u001b[0;34m)\u001b[0m\u001b[0;34m\u001b[0m\u001b[0m\n\u001b[0m\u001b[1;32m     61\u001b[0m         \u001b[0;32mreturn\u001b[0m \u001b[0mout\u001b[0m\u001b[0;34m\u001b[0m\u001b[0m\n\u001b[1;32m     62\u001b[0m \u001b[0;34m\u001b[0m\u001b[0m\n",
      "\u001b[0;32m/home/wcd/app/anaconda3/lib/python3.6/site-packages/torch/nn/modules/module.py\u001b[0m in \u001b[0;36m__call__\u001b[0;34m(self, *input, **kwargs)\u001b[0m\n\u001b[1;32m    222\u001b[0m         \u001b[0;32mfor\u001b[0m \u001b[0mhook\u001b[0m \u001b[0;32min\u001b[0m \u001b[0mself\u001b[0m\u001b[0;34m.\u001b[0m\u001b[0m_forward_pre_hooks\u001b[0m\u001b[0;34m.\u001b[0m\u001b[0mvalues\u001b[0m\u001b[0;34m(\u001b[0m\u001b[0;34m)\u001b[0m\u001b[0;34m:\u001b[0m\u001b[0;34m\u001b[0m\u001b[0m\n\u001b[1;32m    223\u001b[0m             \u001b[0mhook\u001b[0m\u001b[0;34m(\u001b[0m\u001b[0mself\u001b[0m\u001b[0;34m,\u001b[0m \u001b[0minput\u001b[0m\u001b[0;34m)\u001b[0m\u001b[0;34m\u001b[0m\u001b[0m\n\u001b[0;32m--> 224\u001b[0;31m         \u001b[0mresult\u001b[0m \u001b[0;34m=\u001b[0m \u001b[0mself\u001b[0m\u001b[0;34m.\u001b[0m\u001b[0mforward\u001b[0m\u001b[0;34m(\u001b[0m\u001b[0;34m*\u001b[0m\u001b[0minput\u001b[0m\u001b[0;34m,\u001b[0m \u001b[0;34m**\u001b[0m\u001b[0mkwargs\u001b[0m\u001b[0;34m)\u001b[0m\u001b[0;34m\u001b[0m\u001b[0m\n\u001b[0m\u001b[1;32m    225\u001b[0m         \u001b[0;32mfor\u001b[0m \u001b[0mhook\u001b[0m \u001b[0;32min\u001b[0m \u001b[0mself\u001b[0m\u001b[0;34m.\u001b[0m\u001b[0m_forward_hooks\u001b[0m\u001b[0;34m.\u001b[0m\u001b[0mvalues\u001b[0m\u001b[0;34m(\u001b[0m\u001b[0;34m)\u001b[0m\u001b[0;34m:\u001b[0m\u001b[0;34m\u001b[0m\u001b[0m\n\u001b[1;32m    226\u001b[0m             \u001b[0mhook_result\u001b[0m \u001b[0;34m=\u001b[0m \u001b[0mhook\u001b[0m\u001b[0;34m(\u001b[0m\u001b[0mself\u001b[0m\u001b[0;34m,\u001b[0m \u001b[0minput\u001b[0m\u001b[0;34m,\u001b[0m \u001b[0mresult\u001b[0m\u001b[0;34m)\u001b[0m\u001b[0;34m\u001b[0m\u001b[0m\n",
      "\u001b[0;32m/home/wcd/app/anaconda3/lib/python3.6/site-packages/torch/nn/modules/conv.py\u001b[0m in \u001b[0;36mforward\u001b[0;34m(self, input)\u001b[0m\n\u001b[1;32m    252\u001b[0m     \u001b[0;32mdef\u001b[0m \u001b[0mforward\u001b[0m\u001b[0;34m(\u001b[0m\u001b[0mself\u001b[0m\u001b[0;34m,\u001b[0m \u001b[0minput\u001b[0m\u001b[0;34m)\u001b[0m\u001b[0;34m:\u001b[0m\u001b[0;34m\u001b[0m\u001b[0m\n\u001b[1;32m    253\u001b[0m         return F.conv2d(input, self.weight, self.bias, self.stride,\n\u001b[0;32m--> 254\u001b[0;31m                         self.padding, self.dilation, self.groups)\n\u001b[0m\u001b[1;32m    255\u001b[0m \u001b[0;34m\u001b[0m\u001b[0m\n\u001b[1;32m    256\u001b[0m \u001b[0;34m\u001b[0m\u001b[0m\n",
      "\u001b[0;32m/home/wcd/app/anaconda3/lib/python3.6/site-packages/torch/nn/functional.py\u001b[0m in \u001b[0;36mconv2d\u001b[0;34m(input, weight, bias, stride, padding, dilation, groups)\u001b[0m\n\u001b[1;32m     50\u001b[0m     f = ConvNd(_pair(stride), _pair(padding), _pair(dilation), False,\n\u001b[1;32m     51\u001b[0m                _pair(0), groups, torch.backends.cudnn.benchmark, torch.backends.cudnn.enabled)\n\u001b[0;32m---> 52\u001b[0;31m     \u001b[0;32mreturn\u001b[0m \u001b[0mf\u001b[0m\u001b[0;34m(\u001b[0m\u001b[0minput\u001b[0m\u001b[0;34m,\u001b[0m \u001b[0mweight\u001b[0m\u001b[0;34m,\u001b[0m \u001b[0mbias\u001b[0m\u001b[0;34m)\u001b[0m\u001b[0;34m\u001b[0m\u001b[0m\n\u001b[0m\u001b[1;32m     53\u001b[0m \u001b[0;34m\u001b[0m\u001b[0m\n\u001b[1;32m     54\u001b[0m \u001b[0;34m\u001b[0m\u001b[0m\n",
      "\u001b[0;31mRuntimeError\u001b[0m: Input type (Double) and weight type (Float) should be the same"
     ]
    }
   ],
   "source": [
    "div2 = cv(cv(v))\n",
    "print(div2.size())\n",
    "print(up(up(div2)).size())\n",
    "\n",
    "print(str(v.size())+\"conv: \"+str(cv(v).size()))"
   ]
  },
  {
   "cell_type": "code",
   "execution_count": null,
   "metadata": {
    "collapsed": true
   },
   "outputs": [],
   "source": []
  },
  {
   "cell_type": "code",
   "execution_count": null,
   "metadata": {
    "collapsed": true
   },
   "outputs": [],
   "source": []
  },
  {
   "cell_type": "code",
   "execution_count": null,
   "metadata": {
    "collapsed": true
   },
   "outputs": [],
   "source": []
  },
  {
   "cell_type": "code",
   "execution_count": null,
   "metadata": {
    "collapsed": true
   },
   "outputs": [],
   "source": []
  },
  {
   "cell_type": "code",
   "execution_count": null,
   "metadata": {
    "collapsed": true
   },
   "outputs": [],
   "source": []
  },
  {
   "cell_type": "code",
   "execution_count": null,
   "metadata": {
    "collapsed": true
   },
   "outputs": [],
   "source": []
  },
  {
   "cell_type": "code",
   "execution_count": null,
   "metadata": {
    "collapsed": true
   },
   "outputs": [],
   "source": []
  },
  {
   "cell_type": "code",
   "execution_count": 48,
   "metadata": {},
   "outputs": [
    {
     "name": "stdout",
     "output_type": "stream",
     "text": [
      "False\n"
     ]
    }
   ],
   "source": [
    "import numpy as np\n",
    "num=set([0,1,4,2])\n",
    "print(3 in num)"
   ]
  },
  {
   "cell_type": "code",
   "execution_count": 49,
   "metadata": {
    "collapsed": true
   },
   "outputs": [],
   "source": [
    "blocknum1 = 12"
   ]
  },
  {
   "cell_type": "code",
   "execution_count": 50,
   "metadata": {},
   "outputs": [
    {
     "name": "stdout",
     "output_type": "stream",
     "text": [
      "4:7\n",
      "2:9\n",
      "1:10\n",
      "0:11\n"
     ]
    }
   ],
   "source": [
    "for latter in range(blocknum1//2,blocknum1,1):\n",
    "    former = blocknum1-1-latter\n",
    "    if former in num and former is not latter:\n",
    "        print(str(former)+\":\"+str(latter))"
   ]
  },
  {
   "cell_type": "code",
   "execution_count": null,
   "metadata": {
    "collapsed": true
   },
   "outputs": [],
   "source": []
  },
  {
   "cell_type": "code",
   "execution_count": null,
   "metadata": {
    "collapsed": true
   },
   "outputs": [],
   "source": []
  }
 ],
 "metadata": {
  "kernelspec": {
   "display_name": "Python 3",
   "language": "python",
   "name": "python3"
  },
  "language_info": {
   "codemirror_mode": {
    "name": "ipython",
    "version": 3
   },
   "file_extension": ".py",
   "mimetype": "text/x-python",
   "name": "python",
   "nbconvert_exporter": "python",
   "pygments_lexer": "ipython3",
   "version": "3.6.1"
  }
 },
 "nbformat": 4,
 "nbformat_minor": 1
}
