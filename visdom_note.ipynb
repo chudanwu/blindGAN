{
 "cells": [
  {
   "cell_type": "markdown",
   "metadata": {},
   "source": [
    "安装visdom：\n",
    "pip install visdom\n",
    "\n",
    "启动服务器（可能在screen或者tmux中）：\n",
    "python -m visdom.server\n",
    "\n",
    "一旦启动服务器，您就可以通过在浏览器中输入 http://localhost:8097 访问Visdom，localhost可以换成您的托管地址。\n",
    "\n",
    "If the above does not work, try using an SSH tunnel to your server by 把底下这一行加到本地的 ~/.ssh/config 中: \n",
    "LocalForward 127.0.0.1:8097 127.0.0.1:8097.\n",
    "\n",
    "\n",
    "github：https://github.com/facebookresearch/visdom\n",
    "翻译版：http://blog.csdn.net/u012436149/article/details/69389610?utm_source=gold_browser_extension"
   ]
  },
  {
   "cell_type": "code",
   "execution_count": 210,
   "metadata": {
    "collapsed": true
   },
   "outputs": [],
   "source": [
    "#visdom 学习笔记\n",
    "import visdom\n",
    "import numpy as np\n",
    "viz = visdom.Visdom()\n",
    "#画一个文本框\n",
    "textwindow = viz.text('Hello, world!')"
   ]
  },
  {
   "cell_type": "code",
   "execution_count": 211,
   "metadata": {},
   "outputs": [
    {
     "data": {
      "text/plain": [
       "'pane_355b05198b9f68'"
      ]
     },
     "execution_count": 211,
     "metadata": {},
     "output_type": "execute_result"
    }
   ],
   "source": [
    "#画一张图 （CxHxW）\n",
    "viz.image(np.ones((3, 10, 10)))\n",
    "#画一张噪声图\n",
    "viz.image(\n",
    "    np.random.rand(3, 512, 256),\n",
    "    opts=dict(title='噪点', caption='好噪啊。'),\n",
    ")"
   ]
  },
  {
   "cell_type": "code",
   "execution_count": 14,
   "metadata": {},
   "outputs": [
    {
     "name": "stdout",
     "output_type": "stream",
     "text": [
      "0.512266057299\n",
      "[ 0.60410116  0.93877162  0.12651909  0.27891956  0.44199131  0.18390826\n",
      "  0.95311346  0.74950646  0.23382479  0.61200487]\n",
      "[ 2.10410116  2.43877162  1.62651909  1.77891956  1.94199131  1.68390826\n",
      "  2.45311346  2.24950646  1.73382479  2.11200487]\n",
      "[2 2 1 1 1 1 2 2 1 2]\n",
      "[1 1 0 0 0 0 1 1 0 1]\n",
      "[0 0 0 0 0 0 0 0 0 0]\n"
     ]
    }
   ],
   "source": [
    "y = np.random.rand(10)\n",
    "print(y.mean())\n",
    "print(y)\n",
    "print(y + 1.5)\n",
    "print((y+1.5).astype(int))\n",
    "print((y+0.5).astype(int))\n",
    "print(y.astype(int))"
   ]
  },
  {
   "cell_type": "code",
   "execution_count": 126,
   "metadata": {},
   "outputs": [
    {
     "data": {
      "text/plain": [
       "'pane_3550d5e391beb2'"
      ]
     },
     "execution_count": 126,
     "metadata": {},
     "output_type": "execute_result"
    }
   ],
   "source": [
    "Y = np.random.rand(100)\n",
    "#2d散点图\n",
    "viz.scatter(\n",
    "    #样本点有100个2维样本\n",
    "    X=np.random.rand(100, 2), \n",
    "    #100个样本的标签是Y（>1的整数）\n",
    "    Y=(Y[Y > 0] + 1.5).astype(int),\n",
    "    opts=dict(\n",
    "        legend=['Apples', 'Pears'],\n",
    "        xtickmin=-5,\n",
    "        xtickmax=5,\n",
    "        xtickstep=0.5,\n",
    "        #横坐标从-5~5，格子跨度0.5\n",
    "        ytickmin=-5,\n",
    "        ytickmax=5,\n",
    "        ytickstep=0.1,\n",
    "        #纵坐标从-5~5，格子跨度1\n",
    "        markersymbol='cross-thin-open',\n",
    "        title='2d散点图',\n",
    "    ),\n",
    ")"
   ]
  },
  {
   "cell_type": "code",
   "execution_count": 16,
   "metadata": {},
   "outputs": [
    {
     "data": {
      "text/plain": [
       "'pane_354dc34486202e'"
      ]
     },
     "execution_count": 16,
     "metadata": {},
     "output_type": "execute_result"
    }
   ],
   "source": [
    "#3d散点图\n",
    "viz.scatter(\n",
    "    X=np.random.rand(100, 3),\n",
    "    Y=(Y + 1.5).astype(int),\n",
    "    opts=dict(\n",
    "        legend=['Men', 'Women'],\n",
    "        markersize=5,\n",
    "        title='3d散点图',\n",
    "    )\n",
    ")"
   ]
  },
  {
   "cell_type": "code",
   "execution_count": 17,
   "metadata": {},
   "outputs": [
    {
     "name": "stdout",
     "output_type": "stream",
     "text": [
      "[[141 180  79]\n",
      " [ 95 207 164]]\n"
     ]
    }
   ],
   "source": [
    "# 2D scatterplot with custom intensities (red channel)\n",
    "viz.scatter(\n",
    "    X=np.random.rand(255, 2),\n",
    "    Y=(np.random.rand(255) + 1.5).astype(int),\n",
    "    opts=dict(\n",
    "        markersize=10,\n",
    "        #marker的颜色随机（0~255的随机数 大小为2x3）\n",
    "        markercolor=np.random.randint(0, 255, (2, 3,)),\n",
    "    ),\n",
    ")\n",
    "print(np.random.randint(0, 255, (2, 3,)))"
   ]
  },
  {
   "cell_type": "code",
   "execution_count": 62,
   "metadata": {},
   "outputs": [
    {
     "name": "stdout",
     "output_type": "stream",
     "text": [
      "[[ 170.    7.  134.]\n",
      " [ 223.   28.   19.]]\n"
     ]
    }
   ],
   "source": [
    "# 2D scatter plot with custom colors per label:\n",
    "viz.scatter(\n",
    "    X=np.random.rand(255, 2),\n",
    "    Y=(np.random.randn(255) > 0) + 1,\n",
    "    opts=dict(\n",
    "        markersize=10,\n",
    "        markercolor=np.floor(np.random.random((2, 3)) * 255),\n",
    "    ),\n",
    ")\n",
    "print(np.floor(np.random.random((2, 3)) * 255))"
   ]
  },
  {
   "cell_type": "code",
   "execution_count": 69,
   "metadata": {},
   "outputs": [
    {
     "name": "stdout",
     "output_type": "stream",
     "text": [
      "(255, 3)\n"
     ]
    }
   ],
   "source": [
    "win = viz.scatter(\n",
    "    X=np.random.rand(255, 2),\n",
    "    opts=dict(\n",
    "        markersize=10,\n",
    "        markercolor=np.random.randint(0, 255, (255, 3,)),\n",
    "    ),\n",
    ")\n",
    "print(np.random.randint(0, 255, (255, 3,)).shape)"
   ]
  },
  {
   "cell_type": "code",
   "execution_count": 163,
   "metadata": {},
   "outputs": [
    {
     "data": {
      "text/plain": [
       "'pane_354b6dcec42788'"
      ]
     },
     "execution_count": 163,
     "metadata": {},
     "output_type": "execute_result"
    }
   ],
   "source": [
    "# add new trace to scatter plot\n",
    "viz.updateTrace(\n",
    "    X=np.random.rand(1),\n",
    "    Y=np.random.rand(1),\n",
    "    win=win,\n",
    "    name='new_trace',\n",
    ")"
   ]
  },
  {
   "cell_type": "code",
   "execution_count": 123,
   "metadata": {},
   "outputs": [
    {
     "name": "stdout",
     "output_type": "stream",
     "text": [
      "(179, 172, 3)\n"
     ]
    },
    {
     "data": {
      "image/png": "[encoded data removed]",
      "text/plain": [
       "<PIL.Image.Image image mode=RGB size=172x179 at 0x7F65504FDCF8>"
      ]
     },
     "execution_count": 123,
     "metadata": {},
     "output_type": "execute_result"
    }
   ],
   "source": [
    "img = np.array(Image.open('/home/wcd/Projects/Pytorch-examples/fast_neural_style/images/yang/t2.bmp').convert('YCbCr'))\n",
    "print(img.shape)\n",
    "a = Image.fromarray(img[:,:,0],'L')\n",
    "b = Image.fromarray(img[:,:,1],'L')\n",
    "c = Image.fromarray(img[:,:,2],'L')\n",
    "Image.merge('YCbCr',[a,b,c]).convert('RGB')"
   ]
  },
  {
   "cell_type": "code",
   "execution_count": 174,
   "metadata": {},
   "outputs": [
    {
     "data": {
      "text/plain": [
       "'pane_354b6ec9f32c1a'"
      ]
     },
     "execution_count": 174,
     "metadata": {},
     "output_type": "execute_result"
    }
   ],
   "source": [
    ""
   ]
  },
  {
   "cell_type": "code",
   "execution_count": 169,
   "metadata": {
    "collapsed": true
   },
   "outputs": [],
   "source": [
    ""
   ]
  },
  {
   "cell_type": "code",
   "execution_count": 11,
   "metadata": {},
   "outputs": [
    {
     "data": {
      "text/plain": [
       "'pane_354dc3115579a6'"
      ]
     },
     "execution_count": 11,
     "metadata": {},
     "output_type": "execute_result"
    }
   ],
   "source": [
    "# line plots\n",
    "#一条随机取值线\n",
    "viz.line(Y=np.random.rand(10))\n",
    "#一条函数线\n",
    "Y = np.linspace(-5, 5, 100)\n",
    "viz.line(\n",
    "    Y=np.column_stack((Y * Y, np.sqrt(Y + 5))),\n",
    "    X=np.column_stack((Y, Y)),\n",
    "    opts=dict(markers=False),\n",
    ")"
   ]
  },
  {
   "cell_type": "code",
   "execution_count": 159,
   "metadata": {
    "collapsed": true
   },
   "outputs": [],
   "source": [
    "# line updates\n",
    "win = viz.line(\n",
    "    #一个column一条线\n",
    "    #X：坐标轴 Y：取值\n",
    "    #X=np.column_stack((np.arange(0, 10), np.arange(0, 10))),\n",
    "    Y=np.column_stack((np.linspace(5, 10, 10), np.linspace(5, 10, 10) + 5)),\n",
    "    opts=dict(title='线图'),\n",
    ")"
   ]
  },
  {
   "cell_type": "code",
   "execution_count": 176,
   "metadata": {},
   "outputs": [
    {
     "data": {
      "text/plain": [
       "''"
      ]
     },
     "execution_count": 176,
     "metadata": {},
     "output_type": "execute_result"
    }
   ],
   "source": [
    "#第一种update方式：在原win窗口直接加点，然后连线，如果X比上一次的坐标要小，则出现一条右往左线段\n",
    "viz.line(\n",
    "    #must specify x-values for line update\n",
    "    X=np.column_stack((np.arange(12, 22), np.arange(11, 21))),\n",
    "    Y=np.column_stack((np.linspace(5, 10, 10), np.linspace(5, 10, 10) + 5)),\n",
    "    #制定了update源是win这个pane\n",
    "    win=win,\n",
    "    update='append',\n",
    ")"
   ]
  },
  {
   "cell_type": "code",
   "execution_count": 26,
   "metadata": {},
   "outputs": [
    {
     "data": {
      "text/plain": [
       "(10, 2)"
      ]
     },
     "execution_count": 26,
     "metadata": {},
     "output_type": "execute_result"
    }
   ],
   "source": [
    "np.column_stack((np.arange(12, 22), np.arange(11, 21))).shape"
   ]
  },
  {
   "cell_type": "code",
   "execution_count": 177,
   "metadata": {},
   "outputs": [
    {
     "data": {
      "text/plain": [
       "'pane_354b6dcec42788'"
      ]
     },
     "execution_count": 177,
     "metadata": {},
     "output_type": "execute_result"
    }
   ],
   "source": [
    "#第二种update方式：在x位置加上y值，连成线 最好一次一条线\n",
    "viz.updateTrace(\n",
    "    X=np.arange(21, 30),\n",
    "    Y=np.arange(1, 10),\n",
    "    win=win,\n",
    "    name='2'\n",
    ")\n",
    "viz.updateTrace(\n",
    "    X=np.arange(1, 10),\n",
    "    Y=np.arange(11, 20),\n",
    "    win=win,\n",
    "    name='4'\n",
    ")"
   ]
  },
  {
   "cell_type": "code",
   "execution_count": null,
   "metadata": {
    "collapsed": true
   },
   "outputs": [],
   "source": [
    "viz.updateTrace(\n",
    "    X=np.arange(1, 10),\n",
    "    Y=np.arange(11, 20),\n",
    "    win=win,\n",
    "    name='4'\n",
    ")"
   ]
  },
  {
   "cell_type": "code",
   "execution_count": 130,
   "metadata": {
    "collapsed": true
   },
   "outputs": [],
   "source": [
    "Y = np.linspace(0, 4, 200)\n",
    "win = viz.line(\n",
    "    Y=np.column_stack((np.sqrt(Y), np.sqrt(Y) + 2)),\n",
    "    X=np.column_stack((Y, Y)),\n",
    "    opts=dict(\n",
    "        fillarea=True,\n",
    "        legend=False,\n",
    "        width=400,\n",
    "        height=400,\n",
    "        xlabel='Time',\n",
    "        ylabel='Volume',\n",
    "        ytype='log',\n",
    "        title='Stacked area plot',\n",
    "        marginleft=30,\n",
    "        marginright=30,\n",
    "        marginbottom=80,\n",
    "        margintop=30,\n",
    "    ),\n",
    ")"
   ]
  },
  {
   "cell_type": "code",
   "execution_count": 137,
   "metadata": {},
   "outputs": [
    {
     "data": {
      "text/plain": [
       "'pane_354b63cd8cc41c'"
      ]
     },
     "execution_count": 137,
     "metadata": {},
     "output_type": "execute_result"
    }
   ],
   "source": [
    "# bar plots\n",
    "#普通条形图：像直方图\n",
    "viz.bar(X=np.random.rand(20))\n",
    "#叠起来的条形图\n",
    "viz.bar(\n",
    "    X=np.abs(np.random.rand(5, 3)),\n",
    "    opts=dict(\n",
    "        stacked=True,\n",
    "        legend=['Facebook', 'Google', 'Twitter'],\n",
    "        rownames=['2012', '2013', '2014', '2015', '2016']\n",
    "    )\n",
    ")\n",
    "#分组的条形图\n",
    "viz.bar(\n",
    "    X=np.random.rand(20, 3),\n",
    "    opts=dict(\n",
    "        stacked=False,\n",
    "        legend=['The Netherlands', 'France', 'United States']\n",
    "    )\n",
    ")"
   ]
  },
  {
   "cell_type": "code",
   "execution_count": 138,
   "metadata": {},
   "outputs": [
    {
     "data": {
      "text/plain": [
       "'pane_354b68a8c518e6'"
      ]
     },
     "execution_count": 138,
     "metadata": {},
     "output_type": "execute_result"
    }
   ],
   "source": [
    "# histogram\n",
    "viz.histogram(X=np.random.rand(10000), opts=dict(numbins=20))\n",
    "\n",
    "# heatmap\n",
    "viz.heatmap(\n",
    "    X=np.outer(np.arange(1, 6), np.arange(1, 11)),\n",
    "    opts=dict(\n",
    "        columnnames=['a', 'b', 'c', 'd', 'e', 'f', 'g', 'h', 'i', 'j'],\n",
    "        rownames=['y1', 'y2', 'y3', 'y4', 'y5'],\n",
    "        colormap='Electric',\n",
    "    )\n",
    ")"
   ]
  },
  {
   "cell_type": "code",
   "execution_count": 133,
   "metadata": {},
   "outputs": [
    {
     "data": {
      "text/plain": [
       "'pane_354b63496d6f76'"
      ]
     },
     "execution_count": 133,
     "metadata": {},
     "output_type": "execute_result"
    }
   ],
   "source": [
    "# boxplot 统计量方框\n",
    "X = np.random.rand(1000, 2)\n",
    "#print(X)\n",
    "X[:, 1] += 2\n",
    "#print(X)\n",
    "viz.boxplot(\n",
    "    X=X,\n",
    "    opts=dict(legend=['Men', 'Women'])\n",
    ")"
   ]
  },
  {
   "cell_type": "code",
   "execution_count": 87,
   "metadata": {
    "collapsed": true
   },
   "outputs": [],
   "source": [
    "# contour 等高线\n",
    "x = np.tile(np.arange(1, 101), (100, 1))\n",
    "y = x.transpose()\n",
    "X = np.exp((((x - 50) ** 2) + ((y - 50) ** 2)) / -(20.0 ** 2))\n",
    "viz.contour(X=X, opts=dict(colormap='Viridis'))"
   ]
  },
  {
   "cell_type": "code",
   "execution_count": 28,
   "metadata": {
    "collapsed": true
   },
   "outputs": [],
   "source": [
    "import math\n",
    "# stemplot\n",
    "Y = np.linspace(0, 2 * math.pi, 70)\n",
    "X = np.column_stack((np.sin(Y), np.cos(Y)))\n",
    "win = viz.stem(\n",
    "    X=X,\n",
    "    Y=Y,\n",
    "    opts=dict(legend=['Sine', 'Cosine'])\n",
    ")"
   ]
  },
  {
   "cell_type": "code",
   "execution_count": 136,
   "metadata": {
    "collapsed": true
   },
   "outputs": [],
   "source": [
    "# surface 表面\n",
    "viz.surf(X=X, opts=dict(colormap='Hot'))"
   ]
  },
  {
   "cell_type": "code",
   "execution_count": 33,
   "metadata": {
    "collapsed": true
   },
   "outputs": [],
   "source": [
    "import torch"
   ]
  },
  {
   "cell_type": "code",
   "execution_count": 42,
   "metadata": {},
   "outputs": [
    {
     "name": "stdout",
     "output_type": "stream",
     "text": [
      "\n",
      " 1.4335\n",
      "[torch.FloatTensor of size 1x1]\n",
      "\n",
      "\n",
      " 1.4335\n",
      "[torch.FloatTensor of size 1]\n",
      "\n",
      "[[ 1.43354642]]\n",
      "[ 1.43354642]\n",
      "Exception in user code:\n",
      "------------------------------------------------------------\n"
     ]
    },
    {
     "name": "stderr",
     "output_type": "stream",
     "text": [
      "Traceback (most recent call last):\n",
      "  File \"/home/wcd/app/anaconda3/lib/python3.6/site-packages/visdom/__init__.py\", line 228, in _send\n",
      "    data=json.dumps(msg),\n",
      "  File \"/home/wcd/app/anaconda3/lib/python3.6/site-packages/requests/api.py\", line 112, in post\n",
      "    return request('post', url, data=data, json=json, **kwargs)\n",
      "  File \"/home/wcd/app/anaconda3/lib/python3.6/site-packages/requests/api.py\", line 58, in request\n",
      "    return session.request(method=method, url=url, **kwargs)\n",
      "  File \"/home/wcd/app/anaconda3/lib/python3.6/site-packages/requests/sessions.py\", line 518, in request\n",
      "    resp = self.send(prep, **send_kwargs)\n",
      "  File \"/home/wcd/app/anaconda3/lib/python3.6/site-packages/requests/sessions.py\", line 633, in send\n",
      "    adapter = self.get_adapter(url=request.url)\n",
      "  File \"/home/wcd/app/anaconda3/lib/python3.6/site-packages/requests/sessions.py\", line 717, in get_adapter\n",
      "    raise InvalidSchema(\"No connection adapters were found for '%s'\" % url)\n",
      "requests.exceptions.InvalidSchema: No connection adapters were found for 'wcd:8097/events'\n"
     ]
    },
    {
     "data": {
      "text/plain": [
       "False"
      ]
     },
     "execution_count": 42,
     "metadata": {},
     "output_type": "execute_result"
    }
   ],
   "source": [
    "from torch.autograd import Variable\n",
    "import numpy as np\n",
    "x=Variable(torch.Tensor(np.random.randn(1,1)))\n",
    "m=x.mean()\n",
    "print(x.data)\n",
    "print(x.data[0])\n",
    "print(x.data.numpy())\n",
    "print(x.data[0].numpy())\n",
    "#viz.line(Y=x.data.numpy())\n",
    "viz=visdom.Visdom(\"wcd\")\n",
    "viz.line(\n",
    "    X=np.ones(1),\n",
    "         Y=x.data[0].numpy()\n",
    "        )"
   ]
  },
  {
   "cell_type": "code",
   "execution_count": 29,
   "metadata": {},
   "outputs": [
    {
     "data": {
      "text/plain": [
       "'pane_354deb133b63ec'"
      ]
     },
     "execution_count": 29,
     "metadata": {},
     "output_type": "execute_result"
    }
   ],
   "source": [
    "from PIL import Image,ImageFilter\n",
    "from torchvision import transforms\n",
    "l = Image.open(\"/home/wcd/Projects/Pytorch-examples/fast_neural_style/images/style-images/flowers.bmp\").convert('L')\n",
    "img = Image.merge(\"RGB\", (l, l, l))\n",
    "transform = transforms.Compose([\n",
    "        transforms.ToTensor(),\n",
    "        transforms.Lambda(lambda x_HR: x_HR.mul(255))\n",
    "    ])\n",
    "imgtensor = transform(img)\n",
    "viz.image(\n",
    "        imgtensor,\n",
    "        win=win,\n",
    "        opts=dict(title='噪点', caption='好噪啊。'),\n",
    "    )"
   ]
  },
  {
   "cell_type": "code",
   "execution_count": 83,
   "metadata": {},
   "outputs": [
    {
     "name": "stdout",
     "output_type": "stream",
     "text": [
      "(1,)\n",
      "(1,)\n"
     ]
    },
    {
     "data": {
      "text/plain": [
       "'pane_354df0de13fc10'"
      ]
     },
     "execution_count": 83,
     "metadata": {},
     "output_type": "execute_result"
    }
   ],
   "source": [
    "viz=visdom.Visdom()\n",
    "X=np.array([1])\n",
    "Y=torch.ones(1).numpy()\n",
    "print(X.shape)\n",
    "print(Y.shape)\n",
    "#X.ndim\n",
    "viz.line(\n",
    "    X=X,\n",
    "    Y=Y,\n",
    "    # 制定了update源是win这个pane\n",
    ")"
   ]
  },
  {
   "cell_type": "code",
   "execution_count": 95,
   "metadata": {},
   "outputs": [
    {
     "data": {
      "text/plain": [
       "\n",
       "(0 ,.,.) = \n",
       "   1   1   1   1   1   1   1   1   1   1\n",
       "   1   1   1   1   1   1   1   1   1   1\n",
       "   1   1   1   1   1   1   1   1   1   1\n",
       "   1   1   1   1   1   1   1   1   1   1\n",
       "   1   1   1   1   1   1   1   1   1   1\n",
       "   1   1   1   1   1   1   1   1   1   1\n",
       "   1   1   1   1   1   1   1   1   1   1\n",
       "   1   1   1   1   1   1   1   1   1   1\n",
       "   1   1   1   1   1   1   1   1   1   1\n",
       "   1   1   1   1   1   1   1   1   1   1\n",
       "\n",
       "(1 ,.,.) = \n",
       "   1   1   1   1   1   1   1   1   1   1\n",
       "   1   1   1   1   1   1   1   1   1   1\n",
       "   1   1   1   1   1   1   1   1   1   1\n",
       "   1   1   1   1   1   1   1   1   1   1\n",
       "   1   1   1   1   1   1   1   1   1   1\n",
       "   1   1   1   1   1   1   1   1   1   1\n",
       "   1   1   1   1   1   1   1   1   1   1\n",
       "   1   1   1   1   1   1   1   1   1   1\n",
       "   1   1   1   1   1   1   1   1   1   1\n",
       "   1   1   1   1   1   1   1   1   1   1\n",
       "\n",
       "(2 ,.,.) = \n",
       "   1   1   1   1   1   1   1   1   1   1\n",
       "   1   1   1   1   1   1   1   1   1   1\n",
       "   1   1   1   1   1   1   1   1   1   1\n",
       "   1   1   1   1   1   1   1   1   1   1\n",
       "   1   1   1   1   1   1   1   1   1   1\n",
       "   1   1   1   1   1   1   1   1   1   1\n",
       "   1   1   1   1   1   1   1   1   1   1\n",
       "   1   1   1   1   1   1   1   1   1   1\n",
       "   1   1   1   1   1   1   1   1   1   1\n",
       "   1   1   1   1   1   1   1   1   1   1\n",
       "[torch.FloatTensor of size 3x10x10]"
      ]
     },
     "execution_count": 95,
     "metadata": {},
     "output_type": "execute_result"
    }
   ],
   "source": [
    "x = torch.ones(3,10,10)\n",
    "y=x.repeat(1, 1,1,1)\n",
    "y.squeeze(0)"
   ]
  },
  {
   "cell_type": "code",
   "execution_count": 27,
   "metadata": {
    "collapsed": true
   },
   "outputs": [],
   "source": [
    "def drawloss(viz,loss_win,batch_id,loss):\n",
    "    if loss_win is None:\n",
    "        loss_win = viz.line(\n",
    "            # X=np.column_stack((batch_id, batch_id, batch_id)),\n",
    "            X=np.column_stack((batch_id, batch_id)),\n",
    "            Y=np.column_stack(loss),\n",
    "            opts=dict(\n",
    "                markers=False,\n",
    "                legend=['train','val'],\n",
    "            ),\n",
    "        )\n",
    "    else:\n",
    "        loss_win = viz.line(\n",
    "            # must specify x_HR-values for line update\n",
    "            X=np.column_stack((batch_id, batch_id)),\n",
    "            Y=np.column_stack(loss),\n",
    "            # 制定了update源是win这个pane\n",
    "            win=loss_win,\n",
    "            update='append',\n",
    "            opts=dict(\n",
    "                markers=False,\n",
    "                legend=['train','val'],\n",
    "            ),\n",
    "        )\n",
    "    return loss_win"
   ]
  },
  {
   "cell_type": "code",
   "execution_count": 31,
   "metadata": {
    "collapsed": true
   },
   "outputs": [],
   "source": [
    "import numpy as np\n",
    "import visdom\n",
    "viz=visdom.Visdom()\n",
    "loss_win=None"
   ]
  },
  {
   "cell_type": "code",
   "execution_count": 33,
   "metadata": {
    "collapsed": true
   },
   "outputs": [],
   "source": [
    "loss_win = drawloss(viz,loss_win,3,(3.3,5.4))"
   ]
  },
  {
   "cell_type": "code",
   "execution_count": 15,
   "metadata": {},
   "outputs": [
    {
     "data": {
      "text/plain": [
       "array([[ 2.4],\n",
       "       [ 3.6]])"
      ]
     },
     "execution_count": 15,
     "metadata": {},
     "output_type": "execute_result"
    }
   ],
   "source": [
    "np.array([[2.4],[3.6]])"
   ]
  },
  {
   "cell_type": "code",
   "execution_count": 16,
   "metadata": {},
   "outputs": [
    {
     "data": {
      "text/plain": [
       "array([ 2.4,  3.6])"
      ]
     },
     "execution_count": 16,
     "metadata": {},
     "output_type": "execute_result"
    }
   ],
   "source": [
    "np.array([2.4,3.6])"
   ]
  },
  {
   "cell_type": "code",
   "execution_count": 18,
   "metadata": {},
   "outputs": [
    {
     "data": {
      "text/plain": [
       "array([[ 2.4,  3.6]])"
      ]
     },
     "execution_count": 18,
     "metadata": {},
     "output_type": "execute_result"
    }
   ],
   "source": [
    "np.column_stack([2.4,3.6])"
   ]
  },
  {
   "cell_type": "code",
   "execution_count": 84,
   "metadata": {
    "collapsed": true
   },
   "outputs": [],
   "source": [
    "def normalize_batch(batch):\n",
    "    # normalize using imagenet mean and std\n",
    "    mean = batch.data.new(batch.data.size())\n",
    "    std = batch.data.new(batch.data.size())\n",
    "    mean[:, 0, :, :] = 0.485\n",
    "    mean[:, 1, :, :] = 0.456\n",
    "    mean[:, 2, :, :] = 0.406\n",
    "    std[:, 0, :, :] = 0.229\n",
    "    std[:, 1, :, :] = 0.224\n",
    "    std[:, 2, :, :] = 0.225\n",
    "    batch = torch.div(batch, 255.0)\n",
    "    batch -= Variable(mean,volatile=False)\n",
    "    batch /= Variable(std,volatile=False)\n",
    "    return batch\n",
    "\n",
    "def unnormalize_batch(batch):\n",
    "    mean = batch.data.new(batch.data.size())\n",
    "    std = batch.data.new(batch.data.size())\n",
    "    mean[:, 0, :, :] = 0.485\n",
    "    mean[:, 1, :, :] = 0.456\n",
    "    mean[:, 2, :, :] = 0.406\n",
    "    std[:, 0, :, :] = 0.229\n",
    "    std[:, 1, :, :] = 0.224\n",
    "    std[:, 2, :, :] = 0.225\n",
    "    batch = torch.mul(batch,Variable(std,volatile=False))\n",
    "    batch += Variable(mean,volatile=False)\n",
    "    batch = torch.mul(batch, 255.0)\n",
    "    return batch"
   ]
  },
  {
   "cell_type": "code",
   "execution_count": 85,
   "metadata": {
    "collapsed": true
   },
   "outputs": [],
   "source": [
    "from torch.autograd import Variable\n",
    "import torch"
   ]
  },
  {
   "cell_type": "code",
   "execution_count": 86,
   "metadata": {},
   "outputs": [
    {
     "name": "stdout",
     "output_type": "stream",
     "text": [
      "\n",
      "(0 ,0 ,.,.) = \n",
      "    2.0779   47.6759  190.6345    0.9314  226.2337\n",
      "    6.2567  145.3788   57.1076  225.9117  109.2014\n",
      "   13.2068  152.6277  254.2607   55.8901  247.2454\n",
      "   32.0003  186.8842  198.0192  242.5145   61.1224\n",
      "    7.5287  237.7457   70.0256  210.2827  217.4348\n",
      "\n",
      "(0 ,1 ,.,.) = \n",
      "   36.4514   77.7869  119.4885  207.5423  101.5247\n",
      "  132.3009  199.4741  168.2337  105.7931  182.5061\n",
      "  164.2111  134.4607  149.5943   95.4859  144.8827\n",
      "   64.6207  125.9190  130.2956  196.8034  252.6364\n",
      "  150.3248  120.8929  209.0081  238.0145  108.3137\n",
      "\n",
      "(0 ,2 ,.,.) = \n",
      "   38.1388  229.9694  223.1063   24.6402   44.6779\n",
      "  239.4239  124.7212   96.9304   88.8388   46.4283\n",
      "  196.5571  137.0803  244.6040   38.2120  206.2294\n",
      "  107.2269  237.1397  168.3590  199.1640   58.2944\n",
      "   82.8790  119.7624   66.9355   86.7706   25.9304\n",
      "\n",
      "(1 ,0 ,.,.) = \n",
      "   93.3588  131.4854   90.8282  114.2047  200.5704\n",
      "   92.2628    6.2610  102.4176   44.0873   55.8944\n",
      "   25.0284  134.9338   96.5139   24.3092    6.8074\n",
      "   90.2403  148.5382   95.7830   38.6957   35.8511\n",
      "  225.5517  109.4291  101.9252  163.6752  146.9943\n",
      "\n",
      "(1 ,1 ,.,.) = \n",
      "  241.2465  111.9832   63.5343  180.6621    1.9450\n",
      "  154.9070   95.2740   93.0581  182.3455  169.0061\n",
      "  151.0324   11.1245  239.0452   90.6794  185.7431\n",
      "   85.7011   90.0421   12.3112  119.3204   88.9526\n",
      "   86.9003  220.1568  188.9466   93.5918  130.6558\n",
      "\n",
      "(1 ,2 ,.,.) = \n",
      "  140.0926  113.3745    7.6485  195.1488  212.9189\n",
      "  165.6564  189.1104  151.1887   29.4485    6.4083\n",
      "   49.2079   10.8930  238.0837  119.0902   83.0893\n",
      "   70.7100  119.7654  241.0822  126.4169  242.4855\n",
      "  151.8921  192.6923  239.8099  243.5541  138.7638\n",
      "[torch.DoubleTensor of size 2x3x5x5]\n",
      "\n"
     ]
    }
   ],
   "source": [
    "tensor = torch.from_numpy(np.random.rand(2,3,5,5))\n",
    "tensor = tensor.mul_(255).clamp(0,255)\n",
    "print(tensor)"
   ]
  },
  {
   "cell_type": "code",
   "execution_count": 87,
   "metadata": {},
   "outputs": [
    {
     "name": "stdout",
     "output_type": "stream",
     "text": [
      "Variable containing:\n",
      "(0 ,0 ,.,.) = \n",
      " -2.0823 -1.3015  1.1467 -2.1020  1.7563\n",
      " -2.0108  0.3717 -1.1400  1.7508 -0.2479\n",
      " -1.8917  0.4958  2.2362 -1.1608  2.1161\n",
      " -1.5699  1.0824  1.2731  2.0351 -1.0712\n",
      " -1.9890  1.9534 -0.9187  1.4831  1.6056\n",
      "\n",
      "(0 ,1 ,.,.) = \n",
      " -1.3976 -0.6739  0.0562  1.5977 -0.2583\n",
      "  0.2805  1.4565  0.9096 -0.1836  1.1594\n",
      "  0.8391  0.3183  0.5832 -0.3640  0.5007\n",
      " -0.9044  0.1687  0.2454  1.4097  2.3872\n",
      "  0.5960  0.0808  1.6234  2.1312 -0.1395\n",
      "\n",
      "(0 ,2 ,.,.) = \n",
      " -1.1397  2.2037  2.0841 -1.3750 -1.0257\n",
      "  2.3685  0.3693 -0.1150 -0.2561 -0.9952\n",
      "  1.6214  0.5848  2.4588 -1.1384  1.7900\n",
      "  0.0644  2.3287  1.1299  1.6668 -0.7884\n",
      " -0.3599  0.2829 -0.6378 -0.2921 -1.3525\n",
      "\n",
      "(1 ,0 ,.,.) = \n",
      " -0.5192  0.1338 -0.5625 -0.1622  1.3168\n",
      " -0.5379 -2.0107 -0.3640 -1.3629 -1.1607\n",
      " -1.6893  0.1928 -0.4651 -1.7016 -2.0013\n",
      " -0.5726  0.4258 -0.4776 -1.4552 -1.5040\n",
      "  1.7446 -0.2440 -0.3725  0.6850  0.3993\n",
      "\n",
      "(1 ,1 ,.,.) = \n",
      "  2.1878 -0.0752 -0.9234  1.1271 -2.0017\n",
      "  0.6762 -0.3678 -0.4065  1.1566  0.9231\n",
      "  0.6084 -1.8410  2.1493 -0.4482  1.2161\n",
      " -0.5353 -0.4593 -1.8202  0.0532 -0.4784\n",
      " -0.5144  1.8186  1.2722 -0.3972  0.2517\n",
      "\n",
      "(1 ,2 ,.,.) = \n",
      "  0.6373  0.1716 -1.6711  1.5968  1.9066\n",
      "  1.0828  1.4916  0.8307 -1.2912 -1.6928\n",
      " -0.9468 -1.6146  2.3452  0.2712 -0.3563\n",
      " -0.5720  0.2830  2.3974  0.3989  2.4219\n",
      "  0.8429  1.5540  2.3752  2.4405  0.6141\n",
      "[torch.DoubleTensor of size 2x3x5x5]\n",
      "\n"
     ]
    }
   ],
   "source": [
    "vt = Variable(tensor,requires_grad = True)\n",
    "norm = normalize_batch(vt)\n",
    "print(norm)"
   ]
  },
  {
   "cell_type": "code",
   "execution_count": 88,
   "metadata": {},
   "outputs": [
    {
     "name": "stdout",
     "output_type": "stream",
     "text": [
      "Variable containing:\n",
      "(0 ,0 ,.,.) = \n",
      "    2.0779   47.6759  190.6345    0.9314  226.2337\n",
      "    6.2567  145.3788   57.1076  225.9117  109.2014\n",
      "   13.2068  152.6277  254.2607   55.8901  247.2454\n",
      "   32.0003  186.8842  198.0192  242.5145   61.1224\n",
      "    7.5287  237.7457   70.0256  210.2827  217.4348\n",
      "\n",
      "(0 ,1 ,.,.) = \n",
      "   36.4514   77.7869  119.4885  207.5423  101.5247\n",
      "  132.3009  199.4741  168.2337  105.7931  182.5061\n",
      "  164.2111  134.4607  149.5943   95.4859  144.8827\n",
      "   64.6207  125.9190  130.2956  196.8034  252.6364\n",
      "  150.3248  120.8929  209.0081  238.0145  108.3137\n",
      "\n",
      "(0 ,2 ,.,.) = \n",
      "   38.1388  229.9694  223.1063   24.6402   44.6779\n",
      "  239.4239  124.7212   96.9304   88.8388   46.4283\n",
      "  196.5571  137.0803  244.6040   38.2120  206.2294\n",
      "  107.2269  237.1397  168.3590  199.1640   58.2944\n",
      "   82.8790  119.7624   66.9355   86.7706   25.9304\n",
      "\n",
      "(1 ,0 ,.,.) = \n",
      "   93.3588  131.4854   90.8282  114.2047  200.5704\n",
      "   92.2628    6.2610  102.4176   44.0873   55.8944\n",
      "   25.0284  134.9338   96.5139   24.3092    6.8074\n",
      "   90.2403  148.5382   95.7830   38.6957   35.8511\n",
      "  225.5517  109.4291  101.9252  163.6752  146.9943\n",
      "\n",
      "(1 ,1 ,.,.) = \n",
      "  241.2465  111.9832   63.5343  180.6621    1.9450\n",
      "  154.9070   95.2740   93.0581  182.3455  169.0061\n",
      "  151.0324   11.1245  239.0452   90.6794  185.7431\n",
      "   85.7011   90.0421   12.3112  119.3204   88.9526\n",
      "   86.9003  220.1568  188.9466   93.5918  130.6558\n",
      "\n",
      "(1 ,2 ,.,.) = \n",
      "  140.0926  113.3745    7.6485  195.1488  212.9189\n",
      "  165.6564  189.1104  151.1887   29.4485    6.4083\n",
      "   49.2079   10.8930  238.0837  119.0902   83.0893\n",
      "   70.7100  119.7654  241.0822  126.4169  242.4855\n",
      "  151.8921  192.6923  239.8099  243.5541  138.7638\n",
      "[torch.DoubleTensor of size 2x3x5x5]\n",
      "\n"
     ]
    }
   ],
   "source": [
    "unorm = unnormalize_batch(norm)\n",
    "print(unorm)"
   ]
  },
  {
   "cell_type": "code",
   "execution_count": 89,
   "metadata": {},
   "outputs": [
    {
     "data": {
      "text/plain": [
       "Variable containing:\n",
       "(0 ,0 ,.,.) = \n",
       "1.00000e-14 *\n",
       "  -1.3767  0.0000  0.0000 -1.4100  0.0000\n",
       "   0.0000  0.0000  0.0000  0.0000  0.0000\n",
       "   0.0000  0.0000  0.0000  0.0000  0.0000\n",
       "   0.0000  0.0000  0.0000  0.0000  0.0000\n",
       "   0.0000  0.0000  0.0000  0.0000  0.0000\n",
       "\n",
       "(0 ,1 ,.,.) = \n",
       "1.00000e-14 *\n",
       "   0.0000  0.0000  0.0000  0.0000  0.0000\n",
       "   0.0000  0.0000  0.0000  0.0000  0.0000\n",
       "   0.0000  0.0000  0.0000  0.0000  0.0000\n",
       "   0.0000  0.0000  0.0000  0.0000  0.0000\n",
       "   0.0000  0.0000  0.0000  0.0000  0.0000\n",
       "\n",
       "(0 ,2 ,.,.) = \n",
       "1.00000e-14 *\n",
       "   0.0000  0.0000 -2.8422  0.0000 -0.7105\n",
       "   0.0000  0.0000  0.0000  0.0000  0.0000\n",
       "   0.0000  0.0000  0.0000  0.0000  0.0000\n",
       "   0.0000  0.0000  0.0000  0.0000  0.0000\n",
       "   0.0000  0.0000  0.0000  0.0000  0.0000\n",
       "\n",
       "(1 ,0 ,.,.) = \n",
       "1.00000e-14 *\n",
       "   0.0000  0.0000  0.0000  0.0000  0.0000\n",
       "   0.0000 -1.4211  0.0000  0.0000  0.0000\n",
       "   0.0000  0.0000  0.0000  0.0000 -1.4211\n",
       "   0.0000  0.0000  0.0000  0.0000  0.0000\n",
       "   0.0000  0.0000  0.0000  0.0000  0.0000\n",
       "\n",
       "(1 ,1 ,.,.) = \n",
       "1.00000e-14 *\n",
       "   0.0000  0.0000  0.0000  0.0000  0.0000\n",
       "   0.0000  0.0000  0.0000  0.0000  0.0000\n",
       "   0.0000  0.0000  0.0000  0.0000  0.0000\n",
       "   0.0000  0.0000  0.0000  0.0000  0.0000\n",
       "   0.0000  0.0000  0.0000  0.0000  0.0000\n",
       "\n",
       "(1 ,2 ,.,.) = \n",
       "1.00000e-14 *\n",
       "   0.0000  0.0000  0.0000  0.0000  0.0000\n",
       "   0.0000  0.0000  0.0000  0.0000  0.0000\n",
       "   0.0000  0.0000  0.0000  0.0000  0.0000\n",
       "   0.0000  0.0000  0.0000  0.0000  0.0000\n",
       "   0.0000  0.0000  0.0000  0.0000  0.0000\n",
       "[torch.DoubleTensor of size 2x3x5x5]"
      ]
     },
     "execution_count": 89,
     "metadata": {},
     "output_type": "execute_result"
    }
   ],
   "source": [
    "torch.add(vt,-1*unorm)"
   ]
  },
  {
   "cell_type": "code",
   "execution_count": 163,
   "metadata": {
    "collapsed": true
   },
   "outputs": [],
   "source": [
    "import torch\n",
    "import torch.nn.init\n",
    "\n",
    "class TransformerNet(torch.nn.Module):\n",
    "    def __init__(self, mode='RGB'):\n",
    "        super(TransformerNet, self).__init__()\n",
    "        if mode is 'Y' :\n",
    "            channel = 1\n",
    "        else :\n",
    "            channel = 3\n",
    "        # Initial convolution layers\n",
    "        self.conv1 = ConvLayer(channel, 32, kernel_size=9, stride=1)\n",
    "        self.in1 = torch.nn.InstanceNorm2d(32, affine=True)\n",
    "        self.conv2 = ConvLayer(32, 64, kernel_size=3, stride=2)\n",
    "        self.in2 = torch.nn.InstanceNorm2d(64, affine=True)\n",
    "        self.conv3 = ConvLayer(64, 128, kernel_size=3, stride=2)\n",
    "        self.in3 = torch.nn.InstanceNorm2d(128, affine=True)\n",
    "        # Residual layers\n",
    "        self.res1 = ResidualBlock(128)\n",
    "        self.res2 = ResidualBlock(128)\n",
    "        self.res3 = ResidualBlock(128)\n",
    "        self.res4 = ResidualBlock(128)\n",
    "        self.res5 = ResidualBlock(128)\n",
    "        # Conv+PS upsampling Layers\n",
    "        self.ps1 = ConvPSLayer(128, 64, kernel_size=3, stride=1, upsample=2)\n",
    "        self.in4 = torch.nn.InstanceNorm2d(64, affine=True)\n",
    "        self.ps2 = ConvPSLayer(64, 32, kernel_size=3, stride=1, upsample=2)\n",
    "        self.in5 = torch.nn.InstanceNorm2d(32, affine=True)\n",
    "        self.conv4 = ConvLayer(32, channel, kernel_size=3, stride=1)\n",
    "        # Non-linearities\n",
    "        self.relu = torch.nn.ReLU()\n",
    "\n",
    "\n",
    "    def forward(self, X):\n",
    "        y = self.relu(self.in1(self.conv1(X)))\n",
    "        y = self.relu(self.in2(self.conv2(y)))\n",
    "        y = self.relu(self.in3(self.conv3(y)))\n",
    "        y = self.res1(y)\n",
    "        y = self.res2(y)\n",
    "        y = self.res3(y)\n",
    "        y = self.res4(y)\n",
    "        y = self.res5(y)\n",
    "        y = self.relu(self.in4(self.ps1(y)))\n",
    "        y = self.relu(self.in5(self.ps2(y)))\n",
    "        y = self.conv4(y)\n",
    "        #y += X\n",
    "        return y\n",
    "\n",
    "\n",
    "class ConvLayer(torch.nn.Module):\n",
    "    def __init__(self, in_channels, out_channels, kernel_size, stride):\n",
    "        super(ConvLayer, self).__init__()\n",
    "        reflection_padding = kernel_size // 2\n",
    "        self.reflection_pad = torch.nn.ReflectionPad2d(reflection_padding)\n",
    "        self.conv2d = torch.nn.Conv2d(in_channels, out_channels, kernel_size, stride)\n",
    "\n",
    "\n",
    "    def forward(self, x):\n",
    "        #out = self.reflection_pad(x)\n",
    "        out = self.conv2d(x)\n",
    "        return out\n",
    "\n",
    "\n",
    "class ResidualBlock(torch.nn.Module):\n",
    "    \"\"\"ResidualBlock\n",
    "    introduced in: https://arxiv.org/abs/1512.03385\n",
    "    recommended architecture: http://torch.ch/blog/2016/02/04/resnets.html\n",
    "    \"\"\"\n",
    "\n",
    "    def __init__(self, channels):\n",
    "        super(ResidualBlock, self).__init__()\n",
    "        self.conv1 = ConvLayer(channels, channels, kernel_size=3, stride=1)\n",
    "        self.in1 = torch.nn.InstanceNorm2d(channels, affine=True)\n",
    "        self.conv2 = ConvLayer(channels, channels, kernel_size=3, stride=1)\n",
    "        self.in2 = torch.nn.InstanceNorm2d(channels, affine=True)\n",
    "        self.relu = torch.nn.ReLU()\n",
    "\n",
    "    def forward(self, x):\n",
    "        residual = x\n",
    "        out = self.relu(self.in1(self.conv1(x)))\n",
    "        out = self.in2(self.conv2(out))\n",
    "        out = out + residual\n",
    "        return out\n",
    "\n",
    "\n",
    "class UpsampleConvLayer(torch.nn.Module):\n",
    "    \"\"\"UpsampleConvLayer\n",
    "    Upsamples the input and then does a convolution. This method gives better results\n",
    "    compared to ConvTranspose2d.\n",
    "    ref: http://distill.pub/2016/deconv-checkerboard/\n",
    "    \"\"\"\n",
    "\n",
    "    def __init__(self, in_channels, out_channels, kernel_size, stride, upsample=None):\n",
    "        super(UpsampleConvLayer, self).__init__()\n",
    "        self.upsample = upsample\n",
    "        if upsample:\n",
    "            self.upsample_layer = torch.nn.UpsamplingNearest2d(scale_factor=upsample)\n",
    "        reflection_padding = kernel_size // 2\n",
    "        self.reflection_pad = torch.nn.ReflectionPad2d(reflection_padding)\n",
    "        self.conv2d = torch.nn.Conv2d(in_channels, out_channels, kernel_size, stride)\n",
    "\n",
    "    def forward(self, x):\n",
    "        x_in = x\n",
    "        if self.upsample:\n",
    "            x_in = self.upsample_layer(x_in)\n",
    "        #out = self.reflection_pad(x_in)\n",
    "        out = self.conv2d(x_in)\n",
    "        return out\n",
    "\n",
    "\n",
    "class ConvPSLayer(torch.nn.Module):\n",
    "    \"\"\"\n",
    "    conv of (in,outxuxu,k,s)\n",
    "    follow by\n",
    "    pixel shuffle of scalling factor (u)\n",
    "    output is (bs out hxu wxu)\n",
    "    \"\"\"\n",
    "\n",
    "    def __init__(self, in_channels, out_channels, kernel_size, stride, upsample=None):\n",
    "        super(ConvPSLayer, self).__init__()\n",
    "        self.upsample = upsample\n",
    "        if upsample:\n",
    "            self.pixelshuffle_layer = torch.nn.PixelShuffle(upsample)\n",
    "        reflection_padding = kernel_size // 2\n",
    "        self.reflection_pad = torch.nn.ReflectionPad2d(reflection_padding)\n",
    "        self.conv2d = torch.nn.Conv2d(in_channels, out_channels*(upsample**2), kernel_size, stride)\n",
    "\n",
    "    def forward(self, x):\n",
    "\n",
    "        #out = self.reflection_pad(x)\n",
    "        out = self.conv2d(x)\n",
    "        if self.upsample:\n",
    "            out = self.pixelshuffle_layer(out)\n",
    "        return out"
   ]
  },
  {
   "cell_type": "code",
   "execution_count": 160,
   "metadata": {
    "collapsed": true
   },
   "outputs": [],
   "source": [
    "up = UpsampleConvLayer(4, 4, 3, 1, upsample=2).cuda()\n",
    "sp = ConvPSLayer(4, 4, 3, 1, upsample=2).cuda()\n",
    "cv = ConvLayer(4, 4, kernel_size=3, stride=1).cuda()"
   ]
  },
  {
   "cell_type": "code",
   "execution_count": 161,
   "metadata": {
    "collapsed": true
   },
   "outputs": [],
   "source": [
    "v = Variable(torch.from_numpy(np.random.rand(2,4,10,10))).cuda()"
   ]
  },
  {
   "cell_type": "code",
   "execution_count": 164,
   "metadata": {},
   "outputs": [
    {
     "name": "stdout",
     "output_type": "stream",
     "text": [
      "torch.Size([2, 4, 6, 6])\n",
      "torch.Size([2, 4, 18, 18])\n",
      "torch.Size([2, 4, 10, 10])conv: torch.Size([2, 4, 8, 8])\n"
     ]
    }
   ],
   "source": [
    "div2 = cv(cv(v))\n",
    "print(div2.size())\n",
    "print(up(up(div2)).size())\n",
    "\n",
    "print(str(v.size())+\"conv: \"+str(cv(v).size()))"
   ]
  },
  {
   "cell_type": "code",
   "execution_count": 188,
   "metadata": {
    "collapsed": true
   },
   "outputs": [],
   "source": [
    ""
   ]
  },
  {
   "cell_type": "code",
   "execution_count": 195,
   "metadata": {},
   "outputs": [
    {
     "data": {
      "text/plain": [
       "197"
      ]
     },
     "execution_count": 195,
     "metadata": {},
     "output_type": "execute_result"
    }
   ],
   "source": [
    ""
   ]
  },
  {
   "cell_type": "code",
   "execution_count": 190,
   "metadata": {},
   "outputs": [
    {
     "data": {
      "image/png": "[encoded data removed]",
      "text/plain": [
       "<PIL.Image.Image image mode=RGB size=196x176 at 0x7F8E940A7F60>"
      ]
     },
     "execution_count": 190,
     "metadata": {},
     "output_type": "execute_result"
    }
   ],
   "source": [
    ""
   ]
  },
  {
   "cell_type": "code",
   "execution_count": 204,
   "metadata": {},
   "outputs": [
    {
     "name": "stdout",
     "output_type": "stream",
     "text": [
      "128.0\n",
      "64.0\n"
     ]
    }
   ],
   "source": [
    ""
   ]
  },
  {
   "cell_type": "code",
   "execution_count": 202,
   "metadata": {
    "collapsed": true
   },
   "outputs": [],
   "source": [
    ""
   ]
  },
  {
   "cell_type": "code",
   "execution_count": 203,
   "metadata": {},
   "outputs": [
    {
     "data": {
      "text/plain": [
       "ModuleList (\n",
       "  (0): UpsampleConvLayer (\n",
       "    (upsample_layer): UpsamplingNearest2d(scale_factor=2)\n",
       "    (reflection_pad): ReflectionPad2d (1, 1, 1, 1)\n",
       "    (conv2d): Conv2d(4, 4, kernel_size=(3, 3), stride=(1, 1))\n",
       "  )\n",
       ")"
      ]
     },
     "execution_count": 203,
     "metadata": {},
     "output_type": "execute_result"
    }
   ],
   "source": [
    ""
   ]
  },
  {
   "cell_type": "code",
   "execution_count": 208,
   "metadata": {
    "collapsed": true
   },
   "outputs": [],
   "source": [
    ""
   ]
  },
  {
   "cell_type": "code",
   "execution_count": 230,
   "metadata": {},
   "outputs": [
    {
     "name": "stdout",
     "output_type": "stream",
     "text": [
      "False\n"
     ]
    }
   ],
   "source": [
    "import numpy as np\n",
    "num=set([0,1,4,2])\n",
    "print(3 in num)"
   ]
  },
  {
   "cell_type": "code",
   "execution_count": 231,
   "metadata": {
    "collapsed": true
   },
   "outputs": [],
   "source": [
    "blocknum1 = 12"
   ]
  },
  {
   "cell_type": "code",
   "execution_count": 233,
   "metadata": {},
   "outputs": [
    {
     "name": "stdout",
     "output_type": "stream",
     "text": [
      "4:7\n",
      "2:9\n",
      "1:10\n",
      "0:11\n"
     ]
    }
   ],
   "source": [
    "for latter in range(blocknum1//2,blocknum1,1):\n",
    "    former = blocknum1-1-latter\n",
    "    if former in num and former is not latter:\n",
    "        print(str(former)+\":\"+str(latter))"
   ]
  },
  {
   "cell_type": "code",
   "execution_count": null,
   "metadata": {
    "collapsed": true
   },
   "outputs": [],
   "source": [
    ""
   ]
  }
 ],
 "metadata": {
  "kernelspec": {
   "display_name": "Python 3",
   "language": "python",
   "name": "python3"
  },
  "language_info": {
   "codemirror_mode": {
    "name": "ipython",
    "version": 3.0
   },
   "file_extension": ".py",
   "mimetype": "text/x-python",
   "name": "python",
   "nbconvert_exporter": "python",
   "pygments_lexer": "ipython3",
   "version": "3.6.1"
  }
 },
 "nbformat": 4,
 "nbformat_minor": 0
}